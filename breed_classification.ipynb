{
  "nbformat": 4,
  "nbformat_minor": 0,
  "metadata": {
    "colab": {
      "name": "Image Classification with CNN and Transfer Learning.ipynb",
      "provenance": [],
      "collapsed_sections": []
    },
    "kernelspec": {
      "name": "python3",
      "display_name": "Python 3"
    },
    "accelerator": "GPU",
    "widgets": {
      "application/vnd.jupyter.widget-state+json": {
        "d90ce221f55644a89025c88d74426adf": {
          "model_module": "@jupyter-widgets/controls",
          "model_name": "HBoxModel",
          "state": {
            "_view_name": "HBoxView",
            "_dom_classes": [],
            "_model_name": "HBoxModel",
            "_view_module": "@jupyter-widgets/controls",
            "_model_module_version": "1.5.0",
            "_view_count": null,
            "_view_module_version": "1.5.0",
            "box_style": "",
            "layout": "IPY_MODEL_41a65eb9ecc744beb4aaf1282748e784",
            "_model_module": "@jupyter-widgets/controls",
            "children": [
              "IPY_MODEL_b21cc0819ef9400da4b596f6ec5689c1",
              "IPY_MODEL_67e88ce391594d37b3ae969abf458580"
            ]
          }
        },
        "41a65eb9ecc744beb4aaf1282748e784": {
          "model_module": "@jupyter-widgets/base",
          "model_name": "LayoutModel",
          "state": {
            "_view_name": "LayoutView",
            "grid_template_rows": null,
            "right": null,
            "justify_content": null,
            "_view_module": "@jupyter-widgets/base",
            "overflow": null,
            "_model_module_version": "1.2.0",
            "_view_count": null,
            "flex_flow": null,
            "width": null,
            "min_width": null,
            "border": null,
            "align_items": null,
            "bottom": null,
            "_model_module": "@jupyter-widgets/base",
            "top": null,
            "grid_column": null,
            "overflow_y": null,
            "overflow_x": null,
            "grid_auto_flow": null,
            "grid_area": null,
            "grid_template_columns": null,
            "flex": null,
            "_model_name": "LayoutModel",
            "justify_items": null,
            "grid_row": null,
            "max_height": null,
            "align_content": null,
            "visibility": null,
            "align_self": null,
            "height": null,
            "min_height": null,
            "padding": null,
            "grid_auto_rows": null,
            "grid_gap": null,
            "max_width": null,
            "order": null,
            "_view_module_version": "1.2.0",
            "grid_template_areas": null,
            "object_position": null,
            "object_fit": null,
            "grid_auto_columns": null,
            "margin": null,
            "display": null,
            "left": null
          }
        },
        "b21cc0819ef9400da4b596f6ec5689c1": {
          "model_module": "@jupyter-widgets/controls",
          "model_name": "FloatProgressModel",
          "state": {
            "_view_name": "ProgressView",
            "style": "IPY_MODEL_25d07132f90b4ceb88403f2f1f510f28",
            "_dom_classes": [],
            "description": "Dl Completed...: 100%",
            "_model_name": "FloatProgressModel",
            "bar_style": "success",
            "max": 1,
            "_view_module": "@jupyter-widgets/controls",
            "_model_module_version": "1.5.0",
            "value": 1,
            "_view_count": null,
            "_view_module_version": "1.5.0",
            "orientation": "horizontal",
            "min": 0,
            "description_tooltip": null,
            "_model_module": "@jupyter-widgets/controls",
            "layout": "IPY_MODEL_80b652476ca745bcb8a558edb9fcaa99"
          }
        },
        "67e88ce391594d37b3ae969abf458580": {
          "model_module": "@jupyter-widgets/controls",
          "model_name": "HTMLModel",
          "state": {
            "_view_name": "HTMLView",
            "style": "IPY_MODEL_b50d7a02c8aa4eaf91962628632bf35e",
            "_dom_classes": [],
            "description": "",
            "_model_name": "HTMLModel",
            "placeholder": "​",
            "_view_module": "@jupyter-widgets/controls",
            "_model_module_version": "1.5.0",
            "value": " 1/1 [00:15&lt;00:00, 15.26s/ url]",
            "_view_count": null,
            "_view_module_version": "1.5.0",
            "description_tooltip": null,
            "_model_module": "@jupyter-widgets/controls",
            "layout": "IPY_MODEL_56d616b4b7154111bbe181db1a3ab611"
          }
        },
        "25d07132f90b4ceb88403f2f1f510f28": {
          "model_module": "@jupyter-widgets/controls",
          "model_name": "ProgressStyleModel",
          "state": {
            "_view_name": "StyleView",
            "_model_name": "ProgressStyleModel",
            "description_width": "initial",
            "_view_module": "@jupyter-widgets/base",
            "_model_module_version": "1.5.0",
            "_view_count": null,
            "_view_module_version": "1.2.0",
            "bar_color": null,
            "_model_module": "@jupyter-widgets/controls"
          }
        },
        "80b652476ca745bcb8a558edb9fcaa99": {
          "model_module": "@jupyter-widgets/base",
          "model_name": "LayoutModel",
          "state": {
            "_view_name": "LayoutView",
            "grid_template_rows": null,
            "right": null,
            "justify_content": null,
            "_view_module": "@jupyter-widgets/base",
            "overflow": null,
            "_model_module_version": "1.2.0",
            "_view_count": null,
            "flex_flow": null,
            "width": null,
            "min_width": null,
            "border": null,
            "align_items": null,
            "bottom": null,
            "_model_module": "@jupyter-widgets/base",
            "top": null,
            "grid_column": null,
            "overflow_y": null,
            "overflow_x": null,
            "grid_auto_flow": null,
            "grid_area": null,
            "grid_template_columns": null,
            "flex": null,
            "_model_name": "LayoutModel",
            "justify_items": null,
            "grid_row": null,
            "max_height": null,
            "align_content": null,
            "visibility": null,
            "align_self": null,
            "height": null,
            "min_height": null,
            "padding": null,
            "grid_auto_rows": null,
            "grid_gap": null,
            "max_width": null,
            "order": null,
            "_view_module_version": "1.2.0",
            "grid_template_areas": null,
            "object_position": null,
            "object_fit": null,
            "grid_auto_columns": null,
            "margin": null,
            "display": null,
            "left": null
          }
        },
        "b50d7a02c8aa4eaf91962628632bf35e": {
          "model_module": "@jupyter-widgets/controls",
          "model_name": "DescriptionStyleModel",
          "state": {
            "_view_name": "StyleView",
            "_model_name": "DescriptionStyleModel",
            "description_width": "",
            "_view_module": "@jupyter-widgets/base",
            "_model_module_version": "1.5.0",
            "_view_count": null,
            "_view_module_version": "1.2.0",
            "_model_module": "@jupyter-widgets/controls"
          }
        },
        "56d616b4b7154111bbe181db1a3ab611": {
          "model_module": "@jupyter-widgets/base",
          "model_name": "LayoutModel",
          "state": {
            "_view_name": "LayoutView",
            "grid_template_rows": null,
            "right": null,
            "justify_content": null,
            "_view_module": "@jupyter-widgets/base",
            "overflow": null,
            "_model_module_version": "1.2.0",
            "_view_count": null,
            "flex_flow": null,
            "width": null,
            "min_width": null,
            "border": null,
            "align_items": null,
            "bottom": null,
            "_model_module": "@jupyter-widgets/base",
            "top": null,
            "grid_column": null,
            "overflow_y": null,
            "overflow_x": null,
            "grid_auto_flow": null,
            "grid_area": null,
            "grid_template_columns": null,
            "flex": null,
            "_model_name": "LayoutModel",
            "justify_items": null,
            "grid_row": null,
            "max_height": null,
            "align_content": null,
            "visibility": null,
            "align_self": null,
            "height": null,
            "min_height": null,
            "padding": null,
            "grid_auto_rows": null,
            "grid_gap": null,
            "max_width": null,
            "order": null,
            "_view_module_version": "1.2.0",
            "grid_template_areas": null,
            "object_position": null,
            "object_fit": null,
            "grid_auto_columns": null,
            "margin": null,
            "display": null,
            "left": null
          }
        },
        "e3d62db803734843b41682d66902d6f8": {
          "model_module": "@jupyter-widgets/controls",
          "model_name": "HBoxModel",
          "state": {
            "_view_name": "HBoxView",
            "_dom_classes": [],
            "_model_name": "HBoxModel",
            "_view_module": "@jupyter-widgets/controls",
            "_model_module_version": "1.5.0",
            "_view_count": null,
            "_view_module_version": "1.5.0",
            "box_style": "",
            "layout": "IPY_MODEL_fc3969476408468a92fca48b8ea4d897",
            "_model_module": "@jupyter-widgets/controls",
            "children": [
              "IPY_MODEL_8dc58cd6cdff41a0a322ddae965d3cea",
              "IPY_MODEL_bd8b9a8a8dfb49c3a2067b7491ff532b"
            ]
          }
        },
        "fc3969476408468a92fca48b8ea4d897": {
          "model_module": "@jupyter-widgets/base",
          "model_name": "LayoutModel",
          "state": {
            "_view_name": "LayoutView",
            "grid_template_rows": null,
            "right": null,
            "justify_content": null,
            "_view_module": "@jupyter-widgets/base",
            "overflow": null,
            "_model_module_version": "1.2.0",
            "_view_count": null,
            "flex_flow": null,
            "width": null,
            "min_width": null,
            "border": null,
            "align_items": null,
            "bottom": null,
            "_model_module": "@jupyter-widgets/base",
            "top": null,
            "grid_column": null,
            "overflow_y": null,
            "overflow_x": null,
            "grid_auto_flow": null,
            "grid_area": null,
            "grid_template_columns": null,
            "flex": null,
            "_model_name": "LayoutModel",
            "justify_items": null,
            "grid_row": null,
            "max_height": null,
            "align_content": null,
            "visibility": null,
            "align_self": null,
            "height": null,
            "min_height": null,
            "padding": null,
            "grid_auto_rows": null,
            "grid_gap": null,
            "max_width": null,
            "order": null,
            "_view_module_version": "1.2.0",
            "grid_template_areas": null,
            "object_position": null,
            "object_fit": null,
            "grid_auto_columns": null,
            "margin": null,
            "display": null,
            "left": null
          }
        },
        "8dc58cd6cdff41a0a322ddae965d3cea": {
          "model_module": "@jupyter-widgets/controls",
          "model_name": "FloatProgressModel",
          "state": {
            "_view_name": "ProgressView",
            "style": "IPY_MODEL_2fe8bf7a959d414ab7788bf99b4e4a4a",
            "_dom_classes": [],
            "description": "Dl Size...: 100%",
            "_model_name": "FloatProgressModel",
            "bar_style": "success",
            "max": 1,
            "_view_module": "@jupyter-widgets/controls",
            "_model_module_version": "1.5.0",
            "value": 1,
            "_view_count": null,
            "_view_module_version": "1.5.0",
            "orientation": "horizontal",
            "min": 0,
            "description_tooltip": null,
            "_model_module": "@jupyter-widgets/controls",
            "layout": "IPY_MODEL_a022b500c47c401ba011aaf35b0a3d27"
          }
        },
        "bd8b9a8a8dfb49c3a2067b7491ff532b": {
          "model_module": "@jupyter-widgets/controls",
          "model_name": "HTMLModel",
          "state": {
            "_view_name": "HTMLView",
            "style": "IPY_MODEL_76c7c0790dc140bd90c1c2c067dda6ad",
            "_dom_classes": [],
            "description": "",
            "_model_name": "HTMLModel",
            "placeholder": "​",
            "_view_module": "@jupyter-widgets/controls",
            "_model_module_version": "1.5.0",
            "value": " 756/756 [00:15&lt;00:00, 49.61 MiB/s]",
            "_view_count": null,
            "_view_module_version": "1.5.0",
            "description_tooltip": null,
            "_model_module": "@jupyter-widgets/controls",
            "layout": "IPY_MODEL_389a5257571d44d89f261c376ee867fb"
          }
        },
        "2fe8bf7a959d414ab7788bf99b4e4a4a": {
          "model_module": "@jupyter-widgets/controls",
          "model_name": "ProgressStyleModel",
          "state": {
            "_view_name": "StyleView",
            "_model_name": "ProgressStyleModel",
            "description_width": "initial",
            "_view_module": "@jupyter-widgets/base",
            "_model_module_version": "1.5.0",
            "_view_count": null,
            "_view_module_version": "1.2.0",
            "bar_color": null,
            "_model_module": "@jupyter-widgets/controls"
          }
        },
        "a022b500c47c401ba011aaf35b0a3d27": {
          "model_module": "@jupyter-widgets/base",
          "model_name": "LayoutModel",
          "state": {
            "_view_name": "LayoutView",
            "grid_template_rows": null,
            "right": null,
            "justify_content": null,
            "_view_module": "@jupyter-widgets/base",
            "overflow": null,
            "_model_module_version": "1.2.0",
            "_view_count": null,
            "flex_flow": null,
            "width": null,
            "min_width": null,
            "border": null,
            "align_items": null,
            "bottom": null,
            "_model_module": "@jupyter-widgets/base",
            "top": null,
            "grid_column": null,
            "overflow_y": null,
            "overflow_x": null,
            "grid_auto_flow": null,
            "grid_area": null,
            "grid_template_columns": null,
            "flex": null,
            "_model_name": "LayoutModel",
            "justify_items": null,
            "grid_row": null,
            "max_height": null,
            "align_content": null,
            "visibility": null,
            "align_self": null,
            "height": null,
            "min_height": null,
            "padding": null,
            "grid_auto_rows": null,
            "grid_gap": null,
            "max_width": null,
            "order": null,
            "_view_module_version": "1.2.0",
            "grid_template_areas": null,
            "object_position": null,
            "object_fit": null,
            "grid_auto_columns": null,
            "margin": null,
            "display": null,
            "left": null
          }
        },
        "76c7c0790dc140bd90c1c2c067dda6ad": {
          "model_module": "@jupyter-widgets/controls",
          "model_name": "DescriptionStyleModel",
          "state": {
            "_view_name": "StyleView",
            "_model_name": "DescriptionStyleModel",
            "description_width": "",
            "_view_module": "@jupyter-widgets/base",
            "_model_module_version": "1.5.0",
            "_view_count": null,
            "_view_module_version": "1.2.0",
            "_model_module": "@jupyter-widgets/controls"
          }
        },
        "389a5257571d44d89f261c376ee867fb": {
          "model_module": "@jupyter-widgets/base",
          "model_name": "LayoutModel",
          "state": {
            "_view_name": "LayoutView",
            "grid_template_rows": null,
            "right": null,
            "justify_content": null,
            "_view_module": "@jupyter-widgets/base",
            "overflow": null,
            "_model_module_version": "1.2.0",
            "_view_count": null,
            "flex_flow": null,
            "width": null,
            "min_width": null,
            "border": null,
            "align_items": null,
            "bottom": null,
            "_model_module": "@jupyter-widgets/base",
            "top": null,
            "grid_column": null,
            "overflow_y": null,
            "overflow_x": null,
            "grid_auto_flow": null,
            "grid_area": null,
            "grid_template_columns": null,
            "flex": null,
            "_model_name": "LayoutModel",
            "justify_items": null,
            "grid_row": null,
            "max_height": null,
            "align_content": null,
            "visibility": null,
            "align_self": null,
            "height": null,
            "min_height": null,
            "padding": null,
            "grid_auto_rows": null,
            "grid_gap": null,
            "max_width": null,
            "order": null,
            "_view_module_version": "1.2.0",
            "grid_template_areas": null,
            "object_position": null,
            "object_fit": null,
            "grid_auto_columns": null,
            "margin": null,
            "display": null,
            "left": null
          }
        },
        "2f0cff0a334b42e6a15181ccac797e9e": {
          "model_module": "@jupyter-widgets/controls",
          "model_name": "HBoxModel",
          "state": {
            "_view_name": "HBoxView",
            "_dom_classes": [],
            "_model_name": "HBoxModel",
            "_view_module": "@jupyter-widgets/controls",
            "_model_module_version": "1.5.0",
            "_view_count": null,
            "_view_module_version": "1.5.0",
            "box_style": "",
            "layout": "IPY_MODEL_676a0079e9904cb19f547427f9dc51a6",
            "_model_module": "@jupyter-widgets/controls",
            "children": [
              "IPY_MODEL_b2920211577f43f78890786721d709b1",
              "IPY_MODEL_d0afeaa19eba48a7a1109c18a1886f92"
            ]
          }
        },
        "676a0079e9904cb19f547427f9dc51a6": {
          "model_module": "@jupyter-widgets/base",
          "model_name": "LayoutModel",
          "state": {
            "_view_name": "LayoutView",
            "grid_template_rows": null,
            "right": null,
            "justify_content": null,
            "_view_module": "@jupyter-widgets/base",
            "overflow": null,
            "_model_module_version": "1.2.0",
            "_view_count": null,
            "flex_flow": null,
            "width": null,
            "min_width": null,
            "border": null,
            "align_items": null,
            "bottom": null,
            "_model_module": "@jupyter-widgets/base",
            "top": null,
            "grid_column": null,
            "overflow_y": null,
            "overflow_x": null,
            "grid_auto_flow": null,
            "grid_area": null,
            "grid_template_columns": null,
            "flex": null,
            "_model_name": "LayoutModel",
            "justify_items": null,
            "grid_row": null,
            "max_height": null,
            "align_content": null,
            "visibility": null,
            "align_self": null,
            "height": null,
            "min_height": null,
            "padding": null,
            "grid_auto_rows": null,
            "grid_gap": null,
            "max_width": null,
            "order": null,
            "_view_module_version": "1.2.0",
            "grid_template_areas": null,
            "object_position": null,
            "object_fit": null,
            "grid_auto_columns": null,
            "margin": null,
            "display": null,
            "left": null
          }
        },
        "b2920211577f43f78890786721d709b1": {
          "model_module": "@jupyter-widgets/controls",
          "model_name": "FloatProgressModel",
          "state": {
            "_view_name": "ProgressView",
            "style": "IPY_MODEL_260a97e337634b8cbf53e5513c98b3df",
            "_dom_classes": [],
            "description": "Dl Completed...: 100%",
            "_model_name": "FloatProgressModel",
            "bar_style": "success",
            "max": 1,
            "_view_module": "@jupyter-widgets/controls",
            "_model_module_version": "1.5.0",
            "value": 1,
            "_view_count": null,
            "_view_module_version": "1.5.0",
            "orientation": "horizontal",
            "min": 0,
            "description_tooltip": null,
            "_model_module": "@jupyter-widgets/controls",
            "layout": "IPY_MODEL_ef75150205c143a8abdce5e21fc71a50"
          }
        },
        "d0afeaa19eba48a7a1109c18a1886f92": {
          "model_module": "@jupyter-widgets/controls",
          "model_name": "HTMLModel",
          "state": {
            "_view_name": "HTMLView",
            "style": "IPY_MODEL_8675cdd5e8ab4cf4ae6d6b643eb29081",
            "_dom_classes": [],
            "description": "",
            "_model_name": "HTMLModel",
            "placeholder": "​",
            "_view_module": "@jupyter-widgets/controls",
            "_model_module_version": "1.5.0",
            "value": " 2/2 [00:05&lt;00:00,  2.81s/ url]",
            "_view_count": null,
            "_view_module_version": "1.5.0",
            "description_tooltip": null,
            "_model_module": "@jupyter-widgets/controls",
            "layout": "IPY_MODEL_ed042eca88774bf8bbf76db9c922eb08"
          }
        },
        "260a97e337634b8cbf53e5513c98b3df": {
          "model_module": "@jupyter-widgets/controls",
          "model_name": "ProgressStyleModel",
          "state": {
            "_view_name": "StyleView",
            "_model_name": "ProgressStyleModel",
            "description_width": "initial",
            "_view_module": "@jupyter-widgets/base",
            "_model_module_version": "1.5.0",
            "_view_count": null,
            "_view_module_version": "1.2.0",
            "bar_color": null,
            "_model_module": "@jupyter-widgets/controls"
          }
        },
        "ef75150205c143a8abdce5e21fc71a50": {
          "model_module": "@jupyter-widgets/base",
          "model_name": "LayoutModel",
          "state": {
            "_view_name": "LayoutView",
            "grid_template_rows": null,
            "right": null,
            "justify_content": null,
            "_view_module": "@jupyter-widgets/base",
            "overflow": null,
            "_model_module_version": "1.2.0",
            "_view_count": null,
            "flex_flow": null,
            "width": null,
            "min_width": null,
            "border": null,
            "align_items": null,
            "bottom": null,
            "_model_module": "@jupyter-widgets/base",
            "top": null,
            "grid_column": null,
            "overflow_y": null,
            "overflow_x": null,
            "grid_auto_flow": null,
            "grid_area": null,
            "grid_template_columns": null,
            "flex": null,
            "_model_name": "LayoutModel",
            "justify_items": null,
            "grid_row": null,
            "max_height": null,
            "align_content": null,
            "visibility": null,
            "align_self": null,
            "height": null,
            "min_height": null,
            "padding": null,
            "grid_auto_rows": null,
            "grid_gap": null,
            "max_width": null,
            "order": null,
            "_view_module_version": "1.2.0",
            "grid_template_areas": null,
            "object_position": null,
            "object_fit": null,
            "grid_auto_columns": null,
            "margin": null,
            "display": null,
            "left": null
          }
        },
        "8675cdd5e8ab4cf4ae6d6b643eb29081": {
          "model_module": "@jupyter-widgets/controls",
          "model_name": "DescriptionStyleModel",
          "state": {
            "_view_name": "StyleView",
            "_model_name": "DescriptionStyleModel",
            "description_width": "",
            "_view_module": "@jupyter-widgets/base",
            "_model_module_version": "1.5.0",
            "_view_count": null,
            "_view_module_version": "1.2.0",
            "_model_module": "@jupyter-widgets/controls"
          }
        },
        "ed042eca88774bf8bbf76db9c922eb08": {
          "model_module": "@jupyter-widgets/base",
          "model_name": "LayoutModel",
          "state": {
            "_view_name": "LayoutView",
            "grid_template_rows": null,
            "right": null,
            "justify_content": null,
            "_view_module": "@jupyter-widgets/base",
            "overflow": null,
            "_model_module_version": "1.2.0",
            "_view_count": null,
            "flex_flow": null,
            "width": null,
            "min_width": null,
            "border": null,
            "align_items": null,
            "bottom": null,
            "_model_module": "@jupyter-widgets/base",
            "top": null,
            "grid_column": null,
            "overflow_y": null,
            "overflow_x": null,
            "grid_auto_flow": null,
            "grid_area": null,
            "grid_template_columns": null,
            "flex": null,
            "_model_name": "LayoutModel",
            "justify_items": null,
            "grid_row": null,
            "max_height": null,
            "align_content": null,
            "visibility": null,
            "align_self": null,
            "height": null,
            "min_height": null,
            "padding": null,
            "grid_auto_rows": null,
            "grid_gap": null,
            "max_width": null,
            "order": null,
            "_view_module_version": "1.2.0",
            "grid_template_areas": null,
            "object_position": null,
            "object_fit": null,
            "grid_auto_columns": null,
            "margin": null,
            "display": null,
            "left": null
          }
        },
        "22e4ca7573f94cd18677bb44dc27755e": {
          "model_module": "@jupyter-widgets/controls",
          "model_name": "HBoxModel",
          "state": {
            "_view_name": "HBoxView",
            "_dom_classes": [],
            "_model_name": "HBoxModel",
            "_view_module": "@jupyter-widgets/controls",
            "_model_module_version": "1.5.0",
            "_view_count": null,
            "_view_module_version": "1.5.0",
            "box_style": "",
            "layout": "IPY_MODEL_11333d4f73a74c07910bada69d456489",
            "_model_module": "@jupyter-widgets/controls",
            "children": [
              "IPY_MODEL_f672f527fcb445daa9c6fed1851784fe",
              "IPY_MODEL_34254442f33f45f1a8443470d0fd50d9"
            ]
          }
        },
        "11333d4f73a74c07910bada69d456489": {
          "model_module": "@jupyter-widgets/base",
          "model_name": "LayoutModel",
          "state": {
            "_view_name": "LayoutView",
            "grid_template_rows": null,
            "right": null,
            "justify_content": null,
            "_view_module": "@jupyter-widgets/base",
            "overflow": null,
            "_model_module_version": "1.2.0",
            "_view_count": null,
            "flex_flow": null,
            "width": null,
            "min_width": null,
            "border": null,
            "align_items": null,
            "bottom": null,
            "_model_module": "@jupyter-widgets/base",
            "top": null,
            "grid_column": null,
            "overflow_y": null,
            "overflow_x": null,
            "grid_auto_flow": null,
            "grid_area": null,
            "grid_template_columns": null,
            "flex": null,
            "_model_name": "LayoutModel",
            "justify_items": null,
            "grid_row": null,
            "max_height": null,
            "align_content": null,
            "visibility": null,
            "align_self": null,
            "height": null,
            "min_height": null,
            "padding": null,
            "grid_auto_rows": null,
            "grid_gap": null,
            "max_width": null,
            "order": null,
            "_view_module_version": "1.2.0",
            "grid_template_areas": null,
            "object_position": null,
            "object_fit": null,
            "grid_auto_columns": null,
            "margin": null,
            "display": null,
            "left": null
          }
        },
        "f672f527fcb445daa9c6fed1851784fe": {
          "model_module": "@jupyter-widgets/controls",
          "model_name": "FloatProgressModel",
          "state": {
            "_view_name": "ProgressView",
            "style": "IPY_MODEL_b5db31af0bf140339c96e4121fa362aa",
            "_dom_classes": [],
            "description": "Dl Size...: 100%",
            "_model_name": "FloatProgressModel",
            "bar_style": "success",
            "max": 1,
            "_view_module": "@jupyter-widgets/controls",
            "_model_module_version": "1.5.0",
            "value": 1,
            "_view_count": null,
            "_view_module_version": "1.5.0",
            "orientation": "horizontal",
            "min": 0,
            "description_tooltip": null,
            "_model_module": "@jupyter-widgets/controls",
            "layout": "IPY_MODEL_62380e12244c46c5aca37e6f2598eb35"
          }
        },
        "34254442f33f45f1a8443470d0fd50d9": {
          "model_module": "@jupyter-widgets/controls",
          "model_name": "HTMLModel",
          "state": {
            "_view_name": "HTMLView",
            "style": "IPY_MODEL_36170f4501c84091a7e727dcc4faf3cb",
            "_dom_classes": [],
            "description": "",
            "_model_name": "HTMLModel",
            "placeholder": "​",
            "_view_module": "@jupyter-widgets/controls",
            "_model_module_version": "1.5.0",
            "value": " 20/20 [00:05&lt;00:00,  3.57 MiB/s]",
            "_view_count": null,
            "_view_module_version": "1.5.0",
            "description_tooltip": null,
            "_model_module": "@jupyter-widgets/controls",
            "layout": "IPY_MODEL_c78c8d5406f542a3878a57cbbd925c41"
          }
        },
        "b5db31af0bf140339c96e4121fa362aa": {
          "model_module": "@jupyter-widgets/controls",
          "model_name": "ProgressStyleModel",
          "state": {
            "_view_name": "StyleView",
            "_model_name": "ProgressStyleModel",
            "description_width": "initial",
            "_view_module": "@jupyter-widgets/base",
            "_model_module_version": "1.5.0",
            "_view_count": null,
            "_view_module_version": "1.2.0",
            "bar_color": null,
            "_model_module": "@jupyter-widgets/controls"
          }
        },
        "62380e12244c46c5aca37e6f2598eb35": {
          "model_module": "@jupyter-widgets/base",
          "model_name": "LayoutModel",
          "state": {
            "_view_name": "LayoutView",
            "grid_template_rows": null,
            "right": null,
            "justify_content": null,
            "_view_module": "@jupyter-widgets/base",
            "overflow": null,
            "_model_module_version": "1.2.0",
            "_view_count": null,
            "flex_flow": null,
            "width": null,
            "min_width": null,
            "border": null,
            "align_items": null,
            "bottom": null,
            "_model_module": "@jupyter-widgets/base",
            "top": null,
            "grid_column": null,
            "overflow_y": null,
            "overflow_x": null,
            "grid_auto_flow": null,
            "grid_area": null,
            "grid_template_columns": null,
            "flex": null,
            "_model_name": "LayoutModel",
            "justify_items": null,
            "grid_row": null,
            "max_height": null,
            "align_content": null,
            "visibility": null,
            "align_self": null,
            "height": null,
            "min_height": null,
            "padding": null,
            "grid_auto_rows": null,
            "grid_gap": null,
            "max_width": null,
            "order": null,
            "_view_module_version": "1.2.0",
            "grid_template_areas": null,
            "object_position": null,
            "object_fit": null,
            "grid_auto_columns": null,
            "margin": null,
            "display": null,
            "left": null
          }
        },
        "36170f4501c84091a7e727dcc4faf3cb": {
          "model_module": "@jupyter-widgets/controls",
          "model_name": "DescriptionStyleModel",
          "state": {
            "_view_name": "StyleView",
            "_model_name": "DescriptionStyleModel",
            "description_width": "",
            "_view_module": "@jupyter-widgets/base",
            "_model_module_version": "1.5.0",
            "_view_count": null,
            "_view_module_version": "1.2.0",
            "_model_module": "@jupyter-widgets/controls"
          }
        },
        "c78c8d5406f542a3878a57cbbd925c41": {
          "model_module": "@jupyter-widgets/base",
          "model_name": "LayoutModel",
          "state": {
            "_view_name": "LayoutView",
            "grid_template_rows": null,
            "right": null,
            "justify_content": null,
            "_view_module": "@jupyter-widgets/base",
            "overflow": null,
            "_model_module_version": "1.2.0",
            "_view_count": null,
            "flex_flow": null,
            "width": null,
            "min_width": null,
            "border": null,
            "align_items": null,
            "bottom": null,
            "_model_module": "@jupyter-widgets/base",
            "top": null,
            "grid_column": null,
            "overflow_y": null,
            "overflow_x": null,
            "grid_auto_flow": null,
            "grid_area": null,
            "grid_template_columns": null,
            "flex": null,
            "_model_name": "LayoutModel",
            "justify_items": null,
            "grid_row": null,
            "max_height": null,
            "align_content": null,
            "visibility": null,
            "align_self": null,
            "height": null,
            "min_height": null,
            "padding": null,
            "grid_auto_rows": null,
            "grid_gap": null,
            "max_width": null,
            "order": null,
            "_view_module_version": "1.2.0",
            "grid_template_areas": null,
            "object_position": null,
            "object_fit": null,
            "grid_auto_columns": null,
            "margin": null,
            "display": null,
            "left": null
          }
        },
        "5d061902be8649c99e189adc19937df9": {
          "model_module": "@jupyter-widgets/controls",
          "model_name": "HBoxModel",
          "state": {
            "_view_name": "HBoxView",
            "_dom_classes": [],
            "_model_name": "HBoxModel",
            "_view_module": "@jupyter-widgets/controls",
            "_model_module_version": "1.5.0",
            "_view_count": null,
            "_view_module_version": "1.5.0",
            "box_style": "",
            "layout": "IPY_MODEL_e41571338b834ff994073307a07ae99a",
            "_model_module": "@jupyter-widgets/controls",
            "children": [
              "IPY_MODEL_059fffb0176747b2a9c9d83f84f0d704",
              "IPY_MODEL_e5fc9250d41e46debd17ba1811eb8ea6"
            ]
          }
        },
        "e41571338b834ff994073307a07ae99a": {
          "model_module": "@jupyter-widgets/base",
          "model_name": "LayoutModel",
          "state": {
            "_view_name": "LayoutView",
            "grid_template_rows": null,
            "right": null,
            "justify_content": null,
            "_view_module": "@jupyter-widgets/base",
            "overflow": null,
            "_model_module_version": "1.2.0",
            "_view_count": null,
            "flex_flow": null,
            "width": null,
            "min_width": null,
            "border": null,
            "align_items": null,
            "bottom": null,
            "_model_module": "@jupyter-widgets/base",
            "top": null,
            "grid_column": null,
            "overflow_y": null,
            "overflow_x": null,
            "grid_auto_flow": null,
            "grid_area": null,
            "grid_template_columns": null,
            "flex": null,
            "_model_name": "LayoutModel",
            "justify_items": null,
            "grid_row": null,
            "max_height": null,
            "align_content": null,
            "visibility": null,
            "align_self": null,
            "height": null,
            "min_height": null,
            "padding": null,
            "grid_auto_rows": null,
            "grid_gap": null,
            "max_width": null,
            "order": null,
            "_view_module_version": "1.2.0",
            "grid_template_areas": null,
            "object_position": null,
            "object_fit": null,
            "grid_auto_columns": null,
            "margin": null,
            "display": null,
            "left": null
          }
        },
        "059fffb0176747b2a9c9d83f84f0d704": {
          "model_module": "@jupyter-widgets/controls",
          "model_name": "FloatProgressModel",
          "state": {
            "_view_name": "ProgressView",
            "style": "IPY_MODEL_cdf19351d4a34d139f042aa4fa6336c6",
            "_dom_classes": [],
            "description": "Extraction completed...: 100%",
            "_model_name": "FloatProgressModel",
            "bar_style": "success",
            "max": 1,
            "_view_module": "@jupyter-widgets/controls",
            "_model_module_version": "1.5.0",
            "value": 1,
            "_view_count": null,
            "_view_module_version": "1.5.0",
            "orientation": "horizontal",
            "min": 0,
            "description_tooltip": null,
            "_model_module": "@jupyter-widgets/controls",
            "layout": "IPY_MODEL_cf57c3b814f643ccb1f850557e0e6a0f"
          }
        },
        "e5fc9250d41e46debd17ba1811eb8ea6": {
          "model_module": "@jupyter-widgets/controls",
          "model_name": "HTMLModel",
          "state": {
            "_view_name": "HTMLView",
            "style": "IPY_MODEL_14a8d7f0b2554f18abda36d43e8c5ecc",
            "_dom_classes": [],
            "description": "",
            "_model_name": "HTMLModel",
            "placeholder": "​",
            "_view_module": "@jupyter-widgets/controls",
            "_model_module_version": "1.5.0",
            "value": " 2/2 [00:05&lt;00:00,  2.78s/ file]",
            "_view_count": null,
            "_view_module_version": "1.5.0",
            "description_tooltip": null,
            "_model_module": "@jupyter-widgets/controls",
            "layout": "IPY_MODEL_9e2f64bd84a04048bc19e03ac66b4962"
          }
        },
        "cdf19351d4a34d139f042aa4fa6336c6": {
          "model_module": "@jupyter-widgets/controls",
          "model_name": "ProgressStyleModel",
          "state": {
            "_view_name": "StyleView",
            "_model_name": "ProgressStyleModel",
            "description_width": "initial",
            "_view_module": "@jupyter-widgets/base",
            "_model_module_version": "1.5.0",
            "_view_count": null,
            "_view_module_version": "1.2.0",
            "bar_color": null,
            "_model_module": "@jupyter-widgets/controls"
          }
        },
        "cf57c3b814f643ccb1f850557e0e6a0f": {
          "model_module": "@jupyter-widgets/base",
          "model_name": "LayoutModel",
          "state": {
            "_view_name": "LayoutView",
            "grid_template_rows": null,
            "right": null,
            "justify_content": null,
            "_view_module": "@jupyter-widgets/base",
            "overflow": null,
            "_model_module_version": "1.2.0",
            "_view_count": null,
            "flex_flow": null,
            "width": null,
            "min_width": null,
            "border": null,
            "align_items": null,
            "bottom": null,
            "_model_module": "@jupyter-widgets/base",
            "top": null,
            "grid_column": null,
            "overflow_y": null,
            "overflow_x": null,
            "grid_auto_flow": null,
            "grid_area": null,
            "grid_template_columns": null,
            "flex": null,
            "_model_name": "LayoutModel",
            "justify_items": null,
            "grid_row": null,
            "max_height": null,
            "align_content": null,
            "visibility": null,
            "align_self": null,
            "height": null,
            "min_height": null,
            "padding": null,
            "grid_auto_rows": null,
            "grid_gap": null,
            "max_width": null,
            "order": null,
            "_view_module_version": "1.2.0",
            "grid_template_areas": null,
            "object_position": null,
            "object_fit": null,
            "grid_auto_columns": null,
            "margin": null,
            "display": null,
            "left": null
          }
        },
        "14a8d7f0b2554f18abda36d43e8c5ecc": {
          "model_module": "@jupyter-widgets/controls",
          "model_name": "DescriptionStyleModel",
          "state": {
            "_view_name": "StyleView",
            "_model_name": "DescriptionStyleModel",
            "description_width": "",
            "_view_module": "@jupyter-widgets/base",
            "_model_module_version": "1.5.0",
            "_view_count": null,
            "_view_module_version": "1.2.0",
            "_model_module": "@jupyter-widgets/controls"
          }
        },
        "9e2f64bd84a04048bc19e03ac66b4962": {
          "model_module": "@jupyter-widgets/base",
          "model_name": "LayoutModel",
          "state": {
            "_view_name": "LayoutView",
            "grid_template_rows": null,
            "right": null,
            "justify_content": null,
            "_view_module": "@jupyter-widgets/base",
            "overflow": null,
            "_model_module_version": "1.2.0",
            "_view_count": null,
            "flex_flow": null,
            "width": null,
            "min_width": null,
            "border": null,
            "align_items": null,
            "bottom": null,
            "_model_module": "@jupyter-widgets/base",
            "top": null,
            "grid_column": null,
            "overflow_y": null,
            "overflow_x": null,
            "grid_auto_flow": null,
            "grid_area": null,
            "grid_template_columns": null,
            "flex": null,
            "_model_name": "LayoutModel",
            "justify_items": null,
            "grid_row": null,
            "max_height": null,
            "align_content": null,
            "visibility": null,
            "align_self": null,
            "height": null,
            "min_height": null,
            "padding": null,
            "grid_auto_rows": null,
            "grid_gap": null,
            "max_width": null,
            "order": null,
            "_view_module_version": "1.2.0",
            "grid_template_areas": null,
            "object_position": null,
            "object_fit": null,
            "grid_auto_columns": null,
            "margin": null,
            "display": null,
            "left": null
          }
        },
        "e3c3ab21d59e4dd6b49d2ed45ce3258c": {
          "model_module": "@jupyter-widgets/controls",
          "model_name": "HBoxModel",
          "state": {
            "_view_name": "HBoxView",
            "_dom_classes": [],
            "_model_name": "HBoxModel",
            "_view_module": "@jupyter-widgets/controls",
            "_model_module_version": "1.5.0",
            "_view_count": null,
            "_view_module_version": "1.5.0",
            "box_style": "",
            "layout": "IPY_MODEL_04d22fb5479942d0aa7b68a466b560ae",
            "_model_module": "@jupyter-widgets/controls",
            "children": [
              "IPY_MODEL_9947204a2b3f43acb39210748149baa7",
              "IPY_MODEL_6ef5e95b538e4538b371a1328b57167a"
            ]
          }
        },
        "04d22fb5479942d0aa7b68a466b560ae": {
          "model_module": "@jupyter-widgets/base",
          "model_name": "LayoutModel",
          "state": {
            "_view_name": "LayoutView",
            "grid_template_rows": null,
            "right": null,
            "justify_content": null,
            "_view_module": "@jupyter-widgets/base",
            "overflow": null,
            "_model_module_version": "1.2.0",
            "_view_count": null,
            "flex_flow": null,
            "width": null,
            "min_width": null,
            "border": null,
            "align_items": null,
            "bottom": null,
            "_model_module": "@jupyter-widgets/base",
            "top": null,
            "grid_column": null,
            "overflow_y": null,
            "overflow_x": null,
            "grid_auto_flow": null,
            "grid_area": null,
            "grid_template_columns": null,
            "flex": null,
            "_model_name": "LayoutModel",
            "justify_items": null,
            "grid_row": null,
            "max_height": null,
            "align_content": null,
            "visibility": null,
            "align_self": null,
            "height": null,
            "min_height": null,
            "padding": null,
            "grid_auto_rows": null,
            "grid_gap": null,
            "max_width": null,
            "order": null,
            "_view_module_version": "1.2.0",
            "grid_template_areas": null,
            "object_position": null,
            "object_fit": null,
            "grid_auto_columns": null,
            "margin": null,
            "display": null,
            "left": null
          }
        },
        "9947204a2b3f43acb39210748149baa7": {
          "model_module": "@jupyter-widgets/controls",
          "model_name": "FloatProgressModel",
          "state": {
            "_view_name": "ProgressView",
            "style": "IPY_MODEL_1435f33c02124931b956f32a04f5d0f2",
            "_dom_classes": [],
            "description": "",
            "_model_name": "FloatProgressModel",
            "bar_style": "info",
            "max": 1,
            "_view_module": "@jupyter-widgets/controls",
            "_model_module_version": "1.5.0",
            "value": 1,
            "_view_count": null,
            "_view_module_version": "1.5.0",
            "orientation": "horizontal",
            "min": 0,
            "description_tooltip": null,
            "_model_module": "@jupyter-widgets/controls",
            "layout": "IPY_MODEL_eded74a93c2146f282c631781185bb61"
          }
        },
        "6ef5e95b538e4538b371a1328b57167a": {
          "model_module": "@jupyter-widgets/controls",
          "model_name": "HTMLModel",
          "state": {
            "_view_name": "HTMLView",
            "style": "IPY_MODEL_9a2546bb2fcb435b9a6a5ff8d92d4f7c",
            "_dom_classes": [],
            "description": "",
            "_model_name": "HTMLModel",
            "placeholder": "​",
            "_view_module": "@jupyter-widgets/controls",
            "_model_module_version": "1.5.0",
            "value": " 12000/0 [00:10&lt;00:00, 1133.78 examples/s]",
            "_view_count": null,
            "_view_module_version": "1.5.0",
            "description_tooltip": null,
            "_model_module": "@jupyter-widgets/controls",
            "layout": "IPY_MODEL_203910ab85634c38bc13a673ffd55212"
          }
        },
        "1435f33c02124931b956f32a04f5d0f2": {
          "model_module": "@jupyter-widgets/controls",
          "model_name": "ProgressStyleModel",
          "state": {
            "_view_name": "StyleView",
            "_model_name": "ProgressStyleModel",
            "description_width": "initial",
            "_view_module": "@jupyter-widgets/base",
            "_model_module_version": "1.5.0",
            "_view_count": null,
            "_view_module_version": "1.2.0",
            "bar_color": null,
            "_model_module": "@jupyter-widgets/controls"
          }
        },
        "eded74a93c2146f282c631781185bb61": {
          "model_module": "@jupyter-widgets/base",
          "model_name": "LayoutModel",
          "state": {
            "_view_name": "LayoutView",
            "grid_template_rows": null,
            "right": null,
            "justify_content": null,
            "_view_module": "@jupyter-widgets/base",
            "overflow": null,
            "_model_module_version": "1.2.0",
            "_view_count": null,
            "flex_flow": null,
            "width": null,
            "min_width": null,
            "border": null,
            "align_items": null,
            "bottom": null,
            "_model_module": "@jupyter-widgets/base",
            "top": null,
            "grid_column": null,
            "overflow_y": null,
            "overflow_x": null,
            "grid_auto_flow": null,
            "grid_area": null,
            "grid_template_columns": null,
            "flex": null,
            "_model_name": "LayoutModel",
            "justify_items": null,
            "grid_row": null,
            "max_height": null,
            "align_content": null,
            "visibility": null,
            "align_self": null,
            "height": null,
            "min_height": null,
            "padding": null,
            "grid_auto_rows": null,
            "grid_gap": null,
            "max_width": null,
            "order": null,
            "_view_module_version": "1.2.0",
            "grid_template_areas": null,
            "object_position": null,
            "object_fit": null,
            "grid_auto_columns": null,
            "margin": null,
            "display": null,
            "left": null
          }
        },
        "9a2546bb2fcb435b9a6a5ff8d92d4f7c": {
          "model_module": "@jupyter-widgets/controls",
          "model_name": "DescriptionStyleModel",
          "state": {
            "_view_name": "StyleView",
            "_model_name": "DescriptionStyleModel",
            "description_width": "",
            "_view_module": "@jupyter-widgets/base",
            "_model_module_version": "1.5.0",
            "_view_count": null,
            "_view_module_version": "1.2.0",
            "_model_module": "@jupyter-widgets/controls"
          }
        },
        "203910ab85634c38bc13a673ffd55212": {
          "model_module": "@jupyter-widgets/base",
          "model_name": "LayoutModel",
          "state": {
            "_view_name": "LayoutView",
            "grid_template_rows": null,
            "right": null,
            "justify_content": null,
            "_view_module": "@jupyter-widgets/base",
            "overflow": null,
            "_model_module_version": "1.2.0",
            "_view_count": null,
            "flex_flow": null,
            "width": null,
            "min_width": null,
            "border": null,
            "align_items": null,
            "bottom": null,
            "_model_module": "@jupyter-widgets/base",
            "top": null,
            "grid_column": null,
            "overflow_y": null,
            "overflow_x": null,
            "grid_auto_flow": null,
            "grid_area": null,
            "grid_template_columns": null,
            "flex": null,
            "_model_name": "LayoutModel",
            "justify_items": null,
            "grid_row": null,
            "max_height": null,
            "align_content": null,
            "visibility": null,
            "align_self": null,
            "height": null,
            "min_height": null,
            "padding": null,
            "grid_auto_rows": null,
            "grid_gap": null,
            "max_width": null,
            "order": null,
            "_view_module_version": "1.2.0",
            "grid_template_areas": null,
            "object_position": null,
            "object_fit": null,
            "grid_auto_columns": null,
            "margin": null,
            "display": null,
            "left": null
          }
        },
        "4cc99d16486b47669be9d2666478720a": {
          "model_module": "@jupyter-widgets/controls",
          "model_name": "HBoxModel",
          "state": {
            "_view_name": "HBoxView",
            "_dom_classes": [],
            "_model_name": "HBoxModel",
            "_view_module": "@jupyter-widgets/controls",
            "_model_module_version": "1.5.0",
            "_view_count": null,
            "_view_module_version": "1.5.0",
            "box_style": "",
            "layout": "IPY_MODEL_6446dfff69464d8bb47ee3a2cd27050f",
            "_model_module": "@jupyter-widgets/controls",
            "children": [
              "IPY_MODEL_4fe82c48e833499ba4a2200d9426a665",
              "IPY_MODEL_3982f381fbd541f384f6d1908d1b01a4"
            ]
          }
        },
        "6446dfff69464d8bb47ee3a2cd27050f": {
          "model_module": "@jupyter-widgets/base",
          "model_name": "LayoutModel",
          "state": {
            "_view_name": "LayoutView",
            "grid_template_rows": null,
            "right": null,
            "justify_content": null,
            "_view_module": "@jupyter-widgets/base",
            "overflow": null,
            "_model_module_version": "1.2.0",
            "_view_count": null,
            "flex_flow": null,
            "width": null,
            "min_width": null,
            "border": null,
            "align_items": null,
            "bottom": null,
            "_model_module": "@jupyter-widgets/base",
            "top": null,
            "grid_column": null,
            "overflow_y": null,
            "overflow_x": null,
            "grid_auto_flow": null,
            "grid_area": null,
            "grid_template_columns": null,
            "flex": null,
            "_model_name": "LayoutModel",
            "justify_items": null,
            "grid_row": null,
            "max_height": null,
            "align_content": null,
            "visibility": null,
            "align_self": null,
            "height": null,
            "min_height": null,
            "padding": null,
            "grid_auto_rows": null,
            "grid_gap": null,
            "max_width": null,
            "order": null,
            "_view_module_version": "1.2.0",
            "grid_template_areas": null,
            "object_position": null,
            "object_fit": null,
            "grid_auto_columns": null,
            "margin": null,
            "display": null,
            "left": null
          }
        },
        "4fe82c48e833499ba4a2200d9426a665": {
          "model_module": "@jupyter-widgets/controls",
          "model_name": "FloatProgressModel",
          "state": {
            "_view_name": "ProgressView",
            "style": "IPY_MODEL_f81fb44b192b4faeaac82397e0ee3db3",
            "_dom_classes": [],
            "description": " 94%",
            "_model_name": "FloatProgressModel",
            "bar_style": "danger",
            "max": 12000,
            "_view_module": "@jupyter-widgets/controls",
            "_model_module_version": "1.5.0",
            "value": 11221,
            "_view_count": null,
            "_view_module_version": "1.5.0",
            "orientation": "horizontal",
            "min": 0,
            "description_tooltip": null,
            "_model_module": "@jupyter-widgets/controls",
            "layout": "IPY_MODEL_b42601d5b88d43bbb3f5751095f9153a"
          }
        },
        "3982f381fbd541f384f6d1908d1b01a4": {
          "model_module": "@jupyter-widgets/controls",
          "model_name": "HTMLModel",
          "state": {
            "_view_name": "HTMLView",
            "style": "IPY_MODEL_e8e39af26d8440bca52a192718979535",
            "_dom_classes": [],
            "description": "",
            "_model_name": "HTMLModel",
            "placeholder": "​",
            "_view_module": "@jupyter-widgets/controls",
            "_model_module_version": "1.5.0",
            "value": " 11221/12000 [00:01&lt;00:00, 8193.44 examples/s]",
            "_view_count": null,
            "_view_module_version": "1.5.0",
            "description_tooltip": null,
            "_model_module": "@jupyter-widgets/controls",
            "layout": "IPY_MODEL_815719b1f7984881a689aa8308c6ab2d"
          }
        },
        "f81fb44b192b4faeaac82397e0ee3db3": {
          "model_module": "@jupyter-widgets/controls",
          "model_name": "ProgressStyleModel",
          "state": {
            "_view_name": "StyleView",
            "_model_name": "ProgressStyleModel",
            "description_width": "initial",
            "_view_module": "@jupyter-widgets/base",
            "_model_module_version": "1.5.0",
            "_view_count": null,
            "_view_module_version": "1.2.0",
            "bar_color": null,
            "_model_module": "@jupyter-widgets/controls"
          }
        },
        "b42601d5b88d43bbb3f5751095f9153a": {
          "model_module": "@jupyter-widgets/base",
          "model_name": "LayoutModel",
          "state": {
            "_view_name": "LayoutView",
            "grid_template_rows": null,
            "right": null,
            "justify_content": null,
            "_view_module": "@jupyter-widgets/base",
            "overflow": null,
            "_model_module_version": "1.2.0",
            "_view_count": null,
            "flex_flow": null,
            "width": null,
            "min_width": null,
            "border": null,
            "align_items": null,
            "bottom": null,
            "_model_module": "@jupyter-widgets/base",
            "top": null,
            "grid_column": null,
            "overflow_y": null,
            "overflow_x": null,
            "grid_auto_flow": null,
            "grid_area": null,
            "grid_template_columns": null,
            "flex": null,
            "_model_name": "LayoutModel",
            "justify_items": null,
            "grid_row": null,
            "max_height": null,
            "align_content": null,
            "visibility": null,
            "align_self": null,
            "height": null,
            "min_height": null,
            "padding": null,
            "grid_auto_rows": null,
            "grid_gap": null,
            "max_width": null,
            "order": null,
            "_view_module_version": "1.2.0",
            "grid_template_areas": null,
            "object_position": null,
            "object_fit": null,
            "grid_auto_columns": null,
            "margin": null,
            "display": null,
            "left": null
          }
        },
        "e8e39af26d8440bca52a192718979535": {
          "model_module": "@jupyter-widgets/controls",
          "model_name": "DescriptionStyleModel",
          "state": {
            "_view_name": "StyleView",
            "_model_name": "DescriptionStyleModel",
            "description_width": "",
            "_view_module": "@jupyter-widgets/base",
            "_model_module_version": "1.5.0",
            "_view_count": null,
            "_view_module_version": "1.2.0",
            "_model_module": "@jupyter-widgets/controls"
          }
        },
        "815719b1f7984881a689aa8308c6ab2d": {
          "model_module": "@jupyter-widgets/base",
          "model_name": "LayoutModel",
          "state": {
            "_view_name": "LayoutView",
            "grid_template_rows": null,
            "right": null,
            "justify_content": null,
            "_view_module": "@jupyter-widgets/base",
            "overflow": null,
            "_model_module_version": "1.2.0",
            "_view_count": null,
            "flex_flow": null,
            "width": null,
            "min_width": null,
            "border": null,
            "align_items": null,
            "bottom": null,
            "_model_module": "@jupyter-widgets/base",
            "top": null,
            "grid_column": null,
            "overflow_y": null,
            "overflow_x": null,
            "grid_auto_flow": null,
            "grid_area": null,
            "grid_template_columns": null,
            "flex": null,
            "_model_name": "LayoutModel",
            "justify_items": null,
            "grid_row": null,
            "max_height": null,
            "align_content": null,
            "visibility": null,
            "align_self": null,
            "height": null,
            "min_height": null,
            "padding": null,
            "grid_auto_rows": null,
            "grid_gap": null,
            "max_width": null,
            "order": null,
            "_view_module_version": "1.2.0",
            "grid_template_areas": null,
            "object_position": null,
            "object_fit": null,
            "grid_auto_columns": null,
            "margin": null,
            "display": null,
            "left": null
          }
        },
        "283ccdc91b764229a09311acbc445eb2": {
          "model_module": "@jupyter-widgets/controls",
          "model_name": "HBoxModel",
          "state": {
            "_view_name": "HBoxView",
            "_dom_classes": [],
            "_model_name": "HBoxModel",
            "_view_module": "@jupyter-widgets/controls",
            "_model_module_version": "1.5.0",
            "_view_count": null,
            "_view_module_version": "1.5.0",
            "box_style": "",
            "layout": "IPY_MODEL_4b4c714190794abe8cfdc749a26b6713",
            "_model_module": "@jupyter-widgets/controls",
            "children": [
              "IPY_MODEL_8198bdd233704f4fa1c82d2d74650eb5",
              "IPY_MODEL_c654cd4ea71a4d0d94f8f9a47de65bbc"
            ]
          }
        },
        "4b4c714190794abe8cfdc749a26b6713": {
          "model_module": "@jupyter-widgets/base",
          "model_name": "LayoutModel",
          "state": {
            "_view_name": "LayoutView",
            "grid_template_rows": null,
            "right": null,
            "justify_content": null,
            "_view_module": "@jupyter-widgets/base",
            "overflow": null,
            "_model_module_version": "1.2.0",
            "_view_count": null,
            "flex_flow": null,
            "width": null,
            "min_width": null,
            "border": null,
            "align_items": null,
            "bottom": null,
            "_model_module": "@jupyter-widgets/base",
            "top": null,
            "grid_column": null,
            "overflow_y": null,
            "overflow_x": null,
            "grid_auto_flow": null,
            "grid_area": null,
            "grid_template_columns": null,
            "flex": null,
            "_model_name": "LayoutModel",
            "justify_items": null,
            "grid_row": null,
            "max_height": null,
            "align_content": null,
            "visibility": null,
            "align_self": null,
            "height": null,
            "min_height": null,
            "padding": null,
            "grid_auto_rows": null,
            "grid_gap": null,
            "max_width": null,
            "order": null,
            "_view_module_version": "1.2.0",
            "grid_template_areas": null,
            "object_position": null,
            "object_fit": null,
            "grid_auto_columns": null,
            "margin": null,
            "display": null,
            "left": null
          }
        },
        "8198bdd233704f4fa1c82d2d74650eb5": {
          "model_module": "@jupyter-widgets/controls",
          "model_name": "FloatProgressModel",
          "state": {
            "_view_name": "ProgressView",
            "style": "IPY_MODEL_54d8ee5ddfdf4c068568e7d9a97d0911",
            "_dom_classes": [],
            "description": "",
            "_model_name": "FloatProgressModel",
            "bar_style": "info",
            "max": 1,
            "_view_module": "@jupyter-widgets/controls",
            "_model_module_version": "1.5.0",
            "value": 1,
            "_view_count": null,
            "_view_module_version": "1.5.0",
            "orientation": "horizontal",
            "min": 0,
            "description_tooltip": null,
            "_model_module": "@jupyter-widgets/controls",
            "layout": "IPY_MODEL_f35bba113e3e42f1b97589d281047382"
          }
        },
        "c654cd4ea71a4d0d94f8f9a47de65bbc": {
          "model_module": "@jupyter-widgets/controls",
          "model_name": "HTMLModel",
          "state": {
            "_view_name": "HTMLView",
            "style": "IPY_MODEL_3af6ed9e7b6143ba95c87f440f04d293",
            "_dom_classes": [],
            "description": "",
            "_model_name": "HTMLModel",
            "placeholder": "​",
            "_view_module": "@jupyter-widgets/controls",
            "_model_module_version": "1.5.0",
            "value": " 8580/0 [00:08&lt;00:00, 931.78 examples/s]",
            "_view_count": null,
            "_view_module_version": "1.5.0",
            "description_tooltip": null,
            "_model_module": "@jupyter-widgets/controls",
            "layout": "IPY_MODEL_bdc28c32bd0d4001b309df128b122fc6"
          }
        },
        "54d8ee5ddfdf4c068568e7d9a97d0911": {
          "model_module": "@jupyter-widgets/controls",
          "model_name": "ProgressStyleModel",
          "state": {
            "_view_name": "StyleView",
            "_model_name": "ProgressStyleModel",
            "description_width": "initial",
            "_view_module": "@jupyter-widgets/base",
            "_model_module_version": "1.5.0",
            "_view_count": null,
            "_view_module_version": "1.2.0",
            "bar_color": null,
            "_model_module": "@jupyter-widgets/controls"
          }
        },
        "f35bba113e3e42f1b97589d281047382": {
          "model_module": "@jupyter-widgets/base",
          "model_name": "LayoutModel",
          "state": {
            "_view_name": "LayoutView",
            "grid_template_rows": null,
            "right": null,
            "justify_content": null,
            "_view_module": "@jupyter-widgets/base",
            "overflow": null,
            "_model_module_version": "1.2.0",
            "_view_count": null,
            "flex_flow": null,
            "width": null,
            "min_width": null,
            "border": null,
            "align_items": null,
            "bottom": null,
            "_model_module": "@jupyter-widgets/base",
            "top": null,
            "grid_column": null,
            "overflow_y": null,
            "overflow_x": null,
            "grid_auto_flow": null,
            "grid_area": null,
            "grid_template_columns": null,
            "flex": null,
            "_model_name": "LayoutModel",
            "justify_items": null,
            "grid_row": null,
            "max_height": null,
            "align_content": null,
            "visibility": null,
            "align_self": null,
            "height": null,
            "min_height": null,
            "padding": null,
            "grid_auto_rows": null,
            "grid_gap": null,
            "max_width": null,
            "order": null,
            "_view_module_version": "1.2.0",
            "grid_template_areas": null,
            "object_position": null,
            "object_fit": null,
            "grid_auto_columns": null,
            "margin": null,
            "display": null,
            "left": null
          }
        },
        "3af6ed9e7b6143ba95c87f440f04d293": {
          "model_module": "@jupyter-widgets/controls",
          "model_name": "DescriptionStyleModel",
          "state": {
            "_view_name": "StyleView",
            "_model_name": "DescriptionStyleModel",
            "description_width": "",
            "_view_module": "@jupyter-widgets/base",
            "_model_module_version": "1.5.0",
            "_view_count": null,
            "_view_module_version": "1.2.0",
            "_model_module": "@jupyter-widgets/controls"
          }
        },
        "bdc28c32bd0d4001b309df128b122fc6": {
          "model_module": "@jupyter-widgets/base",
          "model_name": "LayoutModel",
          "state": {
            "_view_name": "LayoutView",
            "grid_template_rows": null,
            "right": null,
            "justify_content": null,
            "_view_module": "@jupyter-widgets/base",
            "overflow": null,
            "_model_module_version": "1.2.0",
            "_view_count": null,
            "flex_flow": null,
            "width": null,
            "min_width": null,
            "border": null,
            "align_items": null,
            "bottom": null,
            "_model_module": "@jupyter-widgets/base",
            "top": null,
            "grid_column": null,
            "overflow_y": null,
            "overflow_x": null,
            "grid_auto_flow": null,
            "grid_area": null,
            "grid_template_columns": null,
            "flex": null,
            "_model_name": "LayoutModel",
            "justify_items": null,
            "grid_row": null,
            "max_height": null,
            "align_content": null,
            "visibility": null,
            "align_self": null,
            "height": null,
            "min_height": null,
            "padding": null,
            "grid_auto_rows": null,
            "grid_gap": null,
            "max_width": null,
            "order": null,
            "_view_module_version": "1.2.0",
            "grid_template_areas": null,
            "object_position": null,
            "object_fit": null,
            "grid_auto_columns": null,
            "margin": null,
            "display": null,
            "left": null
          }
        },
        "ecfa75dd808b43beafb0e910a1e01ab9": {
          "model_module": "@jupyter-widgets/controls",
          "model_name": "HBoxModel",
          "state": {
            "_view_name": "HBoxView",
            "_dom_classes": [],
            "_model_name": "HBoxModel",
            "_view_module": "@jupyter-widgets/controls",
            "_model_module_version": "1.5.0",
            "_view_count": null,
            "_view_module_version": "1.5.0",
            "box_style": "",
            "layout": "IPY_MODEL_75d895f339cd4b6084d010f4a7c0ba0d",
            "_model_module": "@jupyter-widgets/controls",
            "children": [
              "IPY_MODEL_073094757e2a4af288a5f02b8a7b4173",
              "IPY_MODEL_00159221a2e34012acb9a41fd2faa84d"
            ]
          }
        },
        "75d895f339cd4b6084d010f4a7c0ba0d": {
          "model_module": "@jupyter-widgets/base",
          "model_name": "LayoutModel",
          "state": {
            "_view_name": "LayoutView",
            "grid_template_rows": null,
            "right": null,
            "justify_content": null,
            "_view_module": "@jupyter-widgets/base",
            "overflow": null,
            "_model_module_version": "1.2.0",
            "_view_count": null,
            "flex_flow": null,
            "width": null,
            "min_width": null,
            "border": null,
            "align_items": null,
            "bottom": null,
            "_model_module": "@jupyter-widgets/base",
            "top": null,
            "grid_column": null,
            "overflow_y": null,
            "overflow_x": null,
            "grid_auto_flow": null,
            "grid_area": null,
            "grid_template_columns": null,
            "flex": null,
            "_model_name": "LayoutModel",
            "justify_items": null,
            "grid_row": null,
            "max_height": null,
            "align_content": null,
            "visibility": null,
            "align_self": null,
            "height": null,
            "min_height": null,
            "padding": null,
            "grid_auto_rows": null,
            "grid_gap": null,
            "max_width": null,
            "order": null,
            "_view_module_version": "1.2.0",
            "grid_template_areas": null,
            "object_position": null,
            "object_fit": null,
            "grid_auto_columns": null,
            "margin": null,
            "display": null,
            "left": null
          }
        },
        "073094757e2a4af288a5f02b8a7b4173": {
          "model_module": "@jupyter-widgets/controls",
          "model_name": "FloatProgressModel",
          "state": {
            "_view_name": "ProgressView",
            "style": "IPY_MODEL_ac13bc628ad945c69fec4234d9860f05",
            "_dom_classes": [],
            "description": " 92%",
            "_model_name": "FloatProgressModel",
            "bar_style": "danger",
            "max": 8580,
            "_view_module": "@jupyter-widgets/controls",
            "_model_module_version": "1.5.0",
            "value": 7882,
            "_view_count": null,
            "_view_module_version": "1.5.0",
            "orientation": "horizontal",
            "min": 0,
            "description_tooltip": null,
            "_model_module": "@jupyter-widgets/controls",
            "layout": "IPY_MODEL_d11cce43353245f8be8f8ff2945fa79f"
          }
        },
        "00159221a2e34012acb9a41fd2faa84d": {
          "model_module": "@jupyter-widgets/controls",
          "model_name": "HTMLModel",
          "state": {
            "_view_name": "HTMLView",
            "style": "IPY_MODEL_70879335ea62467e9b0e30caa6089d44",
            "_dom_classes": [],
            "description": "",
            "_model_name": "HTMLModel",
            "placeholder": "​",
            "_view_module": "@jupyter-widgets/controls",
            "_model_module_version": "1.5.0",
            "value": " 7882/8580 [00:06&lt;00:00, 14121.40 examples/s]",
            "_view_count": null,
            "_view_module_version": "1.5.0",
            "description_tooltip": null,
            "_model_module": "@jupyter-widgets/controls",
            "layout": "IPY_MODEL_619c20c369ab40f597dfdbf95151b725"
          }
        },
        "ac13bc628ad945c69fec4234d9860f05": {
          "model_module": "@jupyter-widgets/controls",
          "model_name": "ProgressStyleModel",
          "state": {
            "_view_name": "StyleView",
            "_model_name": "ProgressStyleModel",
            "description_width": "initial",
            "_view_module": "@jupyter-widgets/base",
            "_model_module_version": "1.5.0",
            "_view_count": null,
            "_view_module_version": "1.2.0",
            "bar_color": null,
            "_model_module": "@jupyter-widgets/controls"
          }
        },
        "d11cce43353245f8be8f8ff2945fa79f": {
          "model_module": "@jupyter-widgets/base",
          "model_name": "LayoutModel",
          "state": {
            "_view_name": "LayoutView",
            "grid_template_rows": null,
            "right": null,
            "justify_content": null,
            "_view_module": "@jupyter-widgets/base",
            "overflow": null,
            "_model_module_version": "1.2.0",
            "_view_count": null,
            "flex_flow": null,
            "width": null,
            "min_width": null,
            "border": null,
            "align_items": null,
            "bottom": null,
            "_model_module": "@jupyter-widgets/base",
            "top": null,
            "grid_column": null,
            "overflow_y": null,
            "overflow_x": null,
            "grid_auto_flow": null,
            "grid_area": null,
            "grid_template_columns": null,
            "flex": null,
            "_model_name": "LayoutModel",
            "justify_items": null,
            "grid_row": null,
            "max_height": null,
            "align_content": null,
            "visibility": null,
            "align_self": null,
            "height": null,
            "min_height": null,
            "padding": null,
            "grid_auto_rows": null,
            "grid_gap": null,
            "max_width": null,
            "order": null,
            "_view_module_version": "1.2.0",
            "grid_template_areas": null,
            "object_position": null,
            "object_fit": null,
            "grid_auto_columns": null,
            "margin": null,
            "display": null,
            "left": null
          }
        },
        "70879335ea62467e9b0e30caa6089d44": {
          "model_module": "@jupyter-widgets/controls",
          "model_name": "DescriptionStyleModel",
          "state": {
            "_view_name": "StyleView",
            "_model_name": "DescriptionStyleModel",
            "description_width": "",
            "_view_module": "@jupyter-widgets/base",
            "_model_module_version": "1.5.0",
            "_view_count": null,
            "_view_module_version": "1.2.0",
            "_model_module": "@jupyter-widgets/controls"
          }
        },
        "619c20c369ab40f597dfdbf95151b725": {
          "model_module": "@jupyter-widgets/base",
          "model_name": "LayoutModel",
          "state": {
            "_view_name": "LayoutView",
            "grid_template_rows": null,
            "right": null,
            "justify_content": null,
            "_view_module": "@jupyter-widgets/base",
            "overflow": null,
            "_model_module_version": "1.2.0",
            "_view_count": null,
            "flex_flow": null,
            "width": null,
            "min_width": null,
            "border": null,
            "align_items": null,
            "bottom": null,
            "_model_module": "@jupyter-widgets/base",
            "top": null,
            "grid_column": null,
            "overflow_y": null,
            "overflow_x": null,
            "grid_auto_flow": null,
            "grid_area": null,
            "grid_template_columns": null,
            "flex": null,
            "_model_name": "LayoutModel",
            "justify_items": null,
            "grid_row": null,
            "max_height": null,
            "align_content": null,
            "visibility": null,
            "align_self": null,
            "height": null,
            "min_height": null,
            "padding": null,
            "grid_auto_rows": null,
            "grid_gap": null,
            "max_width": null,
            "order": null,
            "_view_module_version": "1.2.0",
            "grid_template_areas": null,
            "object_position": null,
            "object_fit": null,
            "grid_auto_columns": null,
            "margin": null,
            "display": null,
            "left": null
          }
        }
      }
    }
  },
  "cells": [
    {
      "cell_type": "markdown",
      "metadata": {
        "id": "Z7bHvdFta0d1"
      },
      "source": [
        "# Dogs Breed Classification \r\n",
        "\r\n",
        "In this Research we will try to build a Convolutional neural network that recognizes a dog's breed among other 120 that we'll learn."
      ]
    },
    {
      "cell_type": "code",
      "metadata": {
        "id": "r1TLbkg0aZGT"
      },
      "source": [
        "import numpy as np\r\n",
        "import pandas as pd\r\n",
        "import matplotlib.pyplot as plt\r\n",
        "\r\n",
        "import tensorflow as tf\r\n",
        "\r\n",
        "\r\n",
        "from tensorflow.keras.models import Model, Sequential\r\n",
        "from tensorflow.keras.layers import Input , Dense, Flatten, Dropout, Conv2D, MaxPool2D\r\n",
        "\r\n",
        "from tensorflow.keras.applications import resnet_v2, inception_resnet_v2\r\n",
        "\r\n",
        "import tensorflow_datasets as tfds\r\n",
        "from tensorflow.keras.callbacks import EarlyStopping\r\n",
        "\r\n",
        "from tensorflow.keras.optimizers import Adam\r\n",
        "from tensorflow.keras.metrics import TopKCategoricalAccuracy"
      ],
      "execution_count": null,
      "outputs": []
    },
    {
      "cell_type": "markdown",
      "metadata": {
        "id": "ERXEhqO7fvbT"
      },
      "source": [
        "## Download and preprocess the data\r\n",
        "\r\n",
        "We'll use the Tensorflow API to download and preprocess the dataset."
      ]
    },
    {
      "cell_type": "code",
      "metadata": {
        "colab": {
          "base_uri": "https://localhost:8080/",
          "height": 518,
          "referenced_widgets": [
            "d90ce221f55644a89025c88d74426adf",
            "41a65eb9ecc744beb4aaf1282748e784",
            "b21cc0819ef9400da4b596f6ec5689c1",
            "67e88ce391594d37b3ae969abf458580",
            "25d07132f90b4ceb88403f2f1f510f28",
            "80b652476ca745bcb8a558edb9fcaa99",
            "b50d7a02c8aa4eaf91962628632bf35e",
            "56d616b4b7154111bbe181db1a3ab611",
            "e3d62db803734843b41682d66902d6f8",
            "fc3969476408468a92fca48b8ea4d897",
            "8dc58cd6cdff41a0a322ddae965d3cea",
            "bd8b9a8a8dfb49c3a2067b7491ff532b",
            "2fe8bf7a959d414ab7788bf99b4e4a4a",
            "a022b500c47c401ba011aaf35b0a3d27",
            "76c7c0790dc140bd90c1c2c067dda6ad",
            "389a5257571d44d89f261c376ee867fb",
            "2f0cff0a334b42e6a15181ccac797e9e",
            "676a0079e9904cb19f547427f9dc51a6",
            "b2920211577f43f78890786721d709b1",
            "d0afeaa19eba48a7a1109c18a1886f92",
            "260a97e337634b8cbf53e5513c98b3df",
            "ef75150205c143a8abdce5e21fc71a50",
            "8675cdd5e8ab4cf4ae6d6b643eb29081",
            "ed042eca88774bf8bbf76db9c922eb08",
            "22e4ca7573f94cd18677bb44dc27755e",
            "11333d4f73a74c07910bada69d456489",
            "f672f527fcb445daa9c6fed1851784fe",
            "34254442f33f45f1a8443470d0fd50d9",
            "b5db31af0bf140339c96e4121fa362aa",
            "62380e12244c46c5aca37e6f2598eb35",
            "36170f4501c84091a7e727dcc4faf3cb",
            "c78c8d5406f542a3878a57cbbd925c41",
            "5d061902be8649c99e189adc19937df9",
            "e41571338b834ff994073307a07ae99a",
            "059fffb0176747b2a9c9d83f84f0d704",
            "e5fc9250d41e46debd17ba1811eb8ea6",
            "cdf19351d4a34d139f042aa4fa6336c6",
            "cf57c3b814f643ccb1f850557e0e6a0f",
            "14a8d7f0b2554f18abda36d43e8c5ecc",
            "9e2f64bd84a04048bc19e03ac66b4962",
            "e3c3ab21d59e4dd6b49d2ed45ce3258c",
            "04d22fb5479942d0aa7b68a466b560ae",
            "9947204a2b3f43acb39210748149baa7",
            "6ef5e95b538e4538b371a1328b57167a",
            "1435f33c02124931b956f32a04f5d0f2",
            "eded74a93c2146f282c631781185bb61",
            "9a2546bb2fcb435b9a6a5ff8d92d4f7c",
            "203910ab85634c38bc13a673ffd55212",
            "4cc99d16486b47669be9d2666478720a",
            "6446dfff69464d8bb47ee3a2cd27050f",
            "4fe82c48e833499ba4a2200d9426a665",
            "3982f381fbd541f384f6d1908d1b01a4",
            "f81fb44b192b4faeaac82397e0ee3db3",
            "b42601d5b88d43bbb3f5751095f9153a",
            "e8e39af26d8440bca52a192718979535",
            "815719b1f7984881a689aa8308c6ab2d",
            "283ccdc91b764229a09311acbc445eb2",
            "4b4c714190794abe8cfdc749a26b6713",
            "8198bdd233704f4fa1c82d2d74650eb5",
            "c654cd4ea71a4d0d94f8f9a47de65bbc",
            "54d8ee5ddfdf4c068568e7d9a97d0911",
            "f35bba113e3e42f1b97589d281047382",
            "3af6ed9e7b6143ba95c87f440f04d293",
            "bdc28c32bd0d4001b309df128b122fc6",
            "ecfa75dd808b43beafb0e910a1e01ab9",
            "75d895f339cd4b6084d010f4a7c0ba0d",
            "073094757e2a4af288a5f02b8a7b4173",
            "00159221a2e34012acb9a41fd2faa84d",
            "ac13bc628ad945c69fec4234d9860f05",
            "d11cce43353245f8be8f8ff2945fa79f",
            "70879335ea62467e9b0e30caa6089d44",
            "619c20c369ab40f597dfdbf95151b725"
          ]
        },
        "id": "KJc6IjNJazIQ",
        "outputId": "5d8c76b9-39d3-4678-aa59-b21842c49ea3"
      },
      "source": [
        "dataset, info = tfds.load(name=\"stanford_dogs\", with_info=True)"
      ],
      "execution_count": null,
      "outputs": [
        {
          "output_type": "stream",
          "text": [
            "\u001b[1mDownloading and preparing dataset stanford_dogs/0.2.0 (download: 778.12 MiB, generated: Unknown size, total: 778.12 MiB) to /root/tensorflow_datasets/stanford_dogs/0.2.0...\u001b[0m\n"
          ],
          "name": "stdout"
        },
        {
          "output_type": "display_data",
          "data": {
            "application/vnd.jupyter.widget-view+json": {
              "model_id": "d90ce221f55644a89025c88d74426adf",
              "version_minor": 0,
              "version_major": 2
            },
            "text/plain": [
              "HBox(children=(FloatProgress(value=1.0, bar_style='info', description='Dl Completed...', max=1.0, style=Progre…"
            ]
          },
          "metadata": {
            "tags": []
          }
        },
        {
          "output_type": "display_data",
          "data": {
            "application/vnd.jupyter.widget-view+json": {
              "model_id": "e3d62db803734843b41682d66902d6f8",
              "version_minor": 0,
              "version_major": 2
            },
            "text/plain": [
              "HBox(children=(FloatProgress(value=1.0, bar_style='info', description='Dl Size...', max=1.0, style=ProgressSty…"
            ]
          },
          "metadata": {
            "tags": []
          }
        },
        {
          "output_type": "stream",
          "text": [
            "\n",
            "\n",
            "\n",
            "\n"
          ],
          "name": "stdout"
        },
        {
          "output_type": "display_data",
          "data": {
            "application/vnd.jupyter.widget-view+json": {
              "model_id": "2f0cff0a334b42e6a15181ccac797e9e",
              "version_minor": 0,
              "version_major": 2
            },
            "text/plain": [
              "HBox(children=(FloatProgress(value=1.0, bar_style='info', description='Dl Completed...', max=1.0, style=Progre…"
            ]
          },
          "metadata": {
            "tags": []
          }
        },
        {
          "output_type": "display_data",
          "data": {
            "application/vnd.jupyter.widget-view+json": {
              "model_id": "22e4ca7573f94cd18677bb44dc27755e",
              "version_minor": 0,
              "version_major": 2
            },
            "text/plain": [
              "HBox(children=(FloatProgress(value=1.0, bar_style='info', description='Dl Size...', max=1.0, style=ProgressSty…"
            ]
          },
          "metadata": {
            "tags": []
          }
        },
        {
          "output_type": "display_data",
          "data": {
            "application/vnd.jupyter.widget-view+json": {
              "model_id": "5d061902be8649c99e189adc19937df9",
              "version_minor": 0,
              "version_major": 2
            },
            "text/plain": [
              "HBox(children=(FloatProgress(value=1.0, bar_style='info', description='Extraction completed...', max=1.0, styl…"
            ]
          },
          "metadata": {
            "tags": []
          }
        },
        {
          "output_type": "stream",
          "text": [
            "\n",
            "\n",
            "\n",
            "\n",
            "\n",
            "\n"
          ],
          "name": "stdout"
        },
        {
          "output_type": "display_data",
          "data": {
            "application/vnd.jupyter.widget-view+json": {
              "model_id": "e3c3ab21d59e4dd6b49d2ed45ce3258c",
              "version_minor": 0,
              "version_major": 2
            },
            "text/plain": [
              "HBox(children=(FloatProgress(value=1.0, bar_style='info', max=1.0), HTML(value='')))"
            ]
          },
          "metadata": {
            "tags": []
          }
        },
        {
          "output_type": "stream",
          "text": [
            "\rShuffling and writing examples to /root/tensorflow_datasets/stanford_dogs/0.2.0.incompleteTEUT6L/stanford_dogs-train.tfrecord\n"
          ],
          "name": "stdout"
        },
        {
          "output_type": "display_data",
          "data": {
            "application/vnd.jupyter.widget-view+json": {
              "model_id": "4cc99d16486b47669be9d2666478720a",
              "version_minor": 0,
              "version_major": 2
            },
            "text/plain": [
              "HBox(children=(FloatProgress(value=0.0, max=12000.0), HTML(value='')))"
            ]
          },
          "metadata": {
            "tags": []
          }
        },
        {
          "output_type": "stream",
          "text": [
            "\r"
          ],
          "name": "stdout"
        },
        {
          "output_type": "display_data",
          "data": {
            "application/vnd.jupyter.widget-view+json": {
              "model_id": "283ccdc91b764229a09311acbc445eb2",
              "version_minor": 0,
              "version_major": 2
            },
            "text/plain": [
              "HBox(children=(FloatProgress(value=1.0, bar_style='info', max=1.0), HTML(value='')))"
            ]
          },
          "metadata": {
            "tags": []
          }
        },
        {
          "output_type": "stream",
          "text": [
            "\rShuffling and writing examples to /root/tensorflow_datasets/stanford_dogs/0.2.0.incompleteTEUT6L/stanford_dogs-test.tfrecord\n"
          ],
          "name": "stdout"
        },
        {
          "output_type": "display_data",
          "data": {
            "application/vnd.jupyter.widget-view+json": {
              "model_id": "ecfa75dd808b43beafb0e910a1e01ab9",
              "version_minor": 0,
              "version_major": 2
            },
            "text/plain": [
              "HBox(children=(FloatProgress(value=0.0, max=8580.0), HTML(value='')))"
            ]
          },
          "metadata": {
            "tags": []
          }
        },
        {
          "output_type": "stream",
          "text": [
            "\u001b[1mDataset stanford_dogs downloaded and prepared to /root/tensorflow_datasets/stanford_dogs/0.2.0. Subsequent calls will reuse this data.\u001b[0m\n"
          ],
          "name": "stdout"
        }
      ]
    },
    {
      "cell_type": "markdown",
      "metadata": {
        "id": "gzR0jJf1gQ8p"
      },
      "source": [
        "One quick check of what we got."
      ]
    },
    {
      "cell_type": "code",
      "metadata": {
        "colab": {
          "base_uri": "https://localhost:8080/",
          "height": 809
        },
        "id": "eLJscMYRazM6",
        "outputId": "d453dc66-6ac7-407f-9de6-92701e33631c"
      },
      "source": [
        "for x in dataset['train'].take(3):\r\n",
        "  plt.imshow(x['image'])\r\n",
        "  plt.title(str(x['label'].numpy()) + \" ----------------- \"+  x['image/filename'])\r\n",
        "  plt.show()"
      ],
      "execution_count": null,
      "outputs": [
        {
          "output_type": "display_data",
          "data": {
            "image/png": "[encoded data removed]",
            "text/plain": [
              "<Figure size 432x288 with 1 Axes>"
            ]
          },
          "metadata": {
            "tags": [],
            "needs_background": "light"
          }
        },
        {
          "output_type": "display_data",
          "data": {
            "image/png": "[encoded data removed]",
            "text/plain": [
              "<Figure size 432x288 with 1 Axes>"
            ]
          },
          "metadata": {
            "tags": [],
            "needs_background": "light"
          }
        },
        {
          "output_type": "display_data",
          "data": {
            "image/png": "[encoded data removed]",
            "text/plain": [
              "<Figure size 432x288 with 1 Axes>"
            ]
          },
          "metadata": {
            "tags": [],
            "needs_background": "light"
          }
        }
      ]
    },
    {
      "cell_type": "markdown",
      "metadata": {
        "id": "A0EPUVgrgVKU"
      },
      "source": [
        "## Prepare Transfer Learning and Image processing."
      ]
    },
    {
      "cell_type": "code",
      "metadata": {
        "colab": {
          "base_uri": "https://localhost:8080/"
        },
        "id": "Qn3sNic2cIrr",
        "outputId": "9db75e32-3d3b-4856-effc-bb796368190e"
      },
      "source": [
        "resnet_inception = inception_resnet_v2.InceptionResNetV2()"
      ],
      "execution_count": null,
      "outputs": [
        {
          "output_type": "stream",
          "text": [
            "Downloading data from https://storage.googleapis.com/tensorflow/keras-applications/inception_resnet_v2/inception_resnet_v2_weights_tf_dim_ordering_tf_kernels.h5\n",
            "225214464/225209952 [==============================] - 1s 0us/step\n"
          ],
          "name": "stdout"
        }
      ]
    },
    {
      "cell_type": "code",
      "metadata": {
        "colab": {
          "base_uri": "https://localhost:8080/"
        },
        "id": "EeCl70zmcIwX",
        "outputId": "3c2c2bb3-b2ca-421a-efde-48762f8ee90b"
      },
      "source": [
        "len(resnet_inception.layers)"
      ],
      "execution_count": null,
      "outputs": [
        {
          "output_type": "execute_result",
          "data": {
            "text/plain": [
              "782"
            ]
          },
          "metadata": {
            "tags": []
          },
          "execution_count": 5
        }
      ]
    },
    {
      "cell_type": "code",
      "metadata": {
        "id": "4Kdre2XScI2Z"
      },
      "source": [
        "IMG_LEN = 299\r\n",
        "IMG_SHAPE = (IMG_LEN, IMG_LEN,3)\r\n",
        "N_BREEDS = 120\r\n",
        "\r\n",
        "training_data = dataset['train']\r\n",
        "test_data = dataset['test']\r\n",
        "\r\n",
        "def preprocess(ds_row):\r\n",
        "  \r\n",
        "    image = tf.image.convert_image_dtype(ds_row['image'], dtype=tf.float32)\r\n",
        "    image = tf.image.resize(image, (IMG_LEN, IMG_LEN), method='nearest')\r\n",
        "  \r\n",
        "    label = tf.one_hot(ds_row['label'],N_BREEDS)\r\n",
        "\r\n",
        "    return image, label\r\n",
        "\r\n",
        "def prepare(dataset, batch_size=None):\r\n",
        "    ds = dataset.map(preprocess, num_parallel_calls=4)\r\n",
        "    ds = ds.shuffle(buffer_size=1000)\r\n",
        "    if batch_size:\r\n",
        "      ds = ds.batch(batch_size)\r\n",
        "    ds = ds.prefetch(buffer_size=tf.data.experimental.AUTOTUNE)\r\n",
        "    return ds"
      ],
      "execution_count": null,
      "outputs": []
    },
    {
      "cell_type": "markdown",
      "metadata": {
        "id": "uV180laZgxW0"
      },
      "source": [
        "Resnet Inception as you saw is a huge model and we will need to change only the last layer. We are going to make it work for our dataset. We will remain with the pre-trained weights of the convolutional layers from Image-net because the Stanford Dogs Dataset is created by the same source anyway, so it should be good."
      ]
    },
    {
      "cell_type": "code",
      "metadata": {
        "id": "-J5zZVgBcI7m"
      },
      "source": [
        "resnet_inception = Model(inputs = resnet_inception.layers[0].input, outputs = resnet_inception.layers[780].output)"
      ],
      "execution_count": null,
      "outputs": []
    },
    {
      "cell_type": "code",
      "metadata": {
        "id": "-GGDOpEBazRj"
      },
      "source": [
        "for layer in resnet_inception.layers:\r\n",
        "  layer.trainable = False"
      ],
      "execution_count": null,
      "outputs": []
    },
    {
      "cell_type": "markdown",
      "metadata": {
        "id": "Wd-GeNK3hbKK"
      },
      "source": [
        "By adding augmentation layer we flip, rotate and zoom the pictures. Not only do we create more data, we also make the model learn harder different positions and features."
      ]
    },
    {
      "cell_type": "code",
      "metadata": {
        "id": "lUgSi0P1d8fV"
      },
      "source": [
        "data_augmentation = tf.keras.Sequential(\r\n",
        "  [\r\n",
        "    tf.keras.layers.experimental.preprocessing.RandomFlip(\"horizontal\", \r\n",
        "                                                 input_shape=(299, \r\n",
        "                                                              299,\r\n",
        "                                                              3)),\r\n",
        "    tf.keras.layers.experimental.preprocessing.RandomRotation(0.1),\r\n",
        "    tf.keras.layers.experimental.preprocessing.RandomZoom(0.1),\r\n",
        "  ]\r\n",
        ")"
      ],
      "execution_count": null,
      "outputs": []
    },
    {
      "cell_type": "markdown",
      "metadata": {
        "id": "74Eh8pbUh9mZ"
      },
      "source": [
        "## Training\r\n",
        "\r\n",
        "The tuning process has been performed in different folder. Here we will train our model with its final hyperparameters."
      ]
    },
    {
      "cell_type": "code",
      "metadata": {
        "id": "tYsVjryEd8kg"
      },
      "source": [
        "resnet_inception = Sequential([\r\n",
        "                           data_augmentation,\r\n",
        "                           resnet_inception,\r\n",
        "                           Dense(N_BREEDS, activation = 'softmax')\r\n",
        "])"
      ],
      "execution_count": null,
      "outputs": []
    },
    {
      "cell_type": "markdown",
      "metadata": {
        "id": "Bq2IQZR_igOc"
      },
      "source": [
        "We add only one Dense Layer with 120 units to classify for our dataset. The ResnetInception convolutional layers are the huge part of it and we don't need to overkill the process with even more fully conected layers. It's not necessary."
      ]
    },
    {
      "cell_type": "code",
      "metadata": {
        "id": "Zrbl-1fkd8pE"
      },
      "source": [
        "resnet_inception.compile(optimizer = Adam(learning_rate = 0.00001), loss = 'categorical_crossentropy', metrics = ['accuracy', TopKCategoricalAccuracy(k=3)])"
      ],
      "execution_count": null,
      "outputs": []
    },
    {
      "cell_type": "markdown",
      "metadata": {
        "id": "7U3IVwisjEpt"
      },
      "source": [
        "The Adam optimizer works well, the Learning rate is significantly lower than the default one but here we'll only have one final model so we should give it all and for loss we use the categorical cross entropy which is a standard for classification with more labels and the metrics we care about are accuracy and TopKCategoricalAccuracy. The final one is a bit more interesting so let's explain it.\r\n",
        "\r\n",
        "The dataset is hard even for humans. Some of the breeds are very much alike. This is why having this metrics as high as possible is important. We might not be able to tell the difference between Belgian Malinois and German Shepherd but we must for sure conclude it's one of them."
      ]
    },
    {
      "cell_type": "code",
      "metadata": {
        "id": "8IWZZ28Bd8uS"
      },
      "source": [
        "train_batches = prepare(training_data, batch_size=64)\r\n",
        "test_batches = prepare(test_data, batch_size=64)"
      ],
      "execution_count": null,
      "outputs": []
    },
    {
      "cell_type": "markdown",
      "metadata": {
        "id": "P3NkDHlUkcAz"
      },
      "source": [
        "Prepare the dataset. Let's also have Early stopping based on Validation loss. If it doesn't improve/decline for three straight epochs, we will stop the process."
      ]
    },
    {
      "cell_type": "code",
      "metadata": {
        "id": "SwNqL0hPeheb"
      },
      "source": [
        "early_stopping = EarlyStopping(monitor = 'val_loss', patience = 3)"
      ],
      "execution_count": null,
      "outputs": []
    },
    {
      "cell_type": "code",
      "metadata": {
        "colab": {
          "base_uri": "https://localhost:8080/"
        },
        "id": "kgvLKXqhehjD",
        "outputId": "d59f8271-b057-4eb6-b2ba-b3cd17b48576"
      },
      "source": [
        "history_resnet_inception = resnet_inception.fit(train_batches, validation_data = test_batches,  epochs = 50, callbacks = [early_stopping])"
      ],
      "execution_count": null,
      "outputs": [
        {
          "output_type": "stream",
          "text": [
            "Epoch 1/50\n",
            "188/188 [==============================] - 141s 656ms/step - loss: 4.8429 - accuracy: 0.0077 - top_k_categorical_accuracy: 0.0308 - val_loss: 4.6705 - val_accuracy: 0.0324 - val_top_k_categorical_accuracy: 0.0830\n",
            "Epoch 2/50\n",
            "188/188 [==============================] - 123s 635ms/step - loss: 4.6407 - accuracy: 0.0374 - top_k_categorical_accuracy: 0.0966 - val_loss: 4.4743 - val_accuracy: 0.1030 - val_top_k_categorical_accuracy: 0.2139\n",
            "Epoch 3/50\n",
            "188/188 [==============================] - 123s 637ms/step - loss: 4.4516 - accuracy: 0.1106 - top_k_categorical_accuracy: 0.2256 - val_loss: 4.2836 - val_accuracy: 0.2209 - val_top_k_categorical_accuracy: 0.3720\n",
            "Epoch 4/50\n",
            "188/188 [==============================] - 123s 635ms/step - loss: 4.2636 - accuracy: 0.2274 - top_k_categorical_accuracy: 0.3950 - val_loss: 4.0963 - val_accuracy: 0.3621 - val_top_k_categorical_accuracy: 0.5723\n",
            "Epoch 5/50\n",
            "188/188 [==============================] - 123s 638ms/step - loss: 4.0895 - accuracy: 0.3579 - top_k_categorical_accuracy: 0.5699 - val_loss: 3.9129 - val_accuracy: 0.5091 - val_top_k_categorical_accuracy: 0.7359\n",
            "Epoch 6/50\n",
            "188/188 [==============================] - 123s 637ms/step - loss: 3.9106 - accuracy: 0.4951 - top_k_categorical_accuracy: 0.7184 - val_loss: 3.7324 - val_accuracy: 0.6193 - val_top_k_categorical_accuracy: 0.8336\n",
            "Epoch 7/50\n",
            "188/188 [==============================] - 123s 637ms/step - loss: 3.7420 - accuracy: 0.5813 - top_k_categorical_accuracy: 0.7959 - val_loss: 3.5550 - val_accuracy: 0.6957 - val_top_k_categorical_accuracy: 0.8999\n",
            "Epoch 8/50\n",
            "188/188 [==============================] - 123s 634ms/step - loss: 3.5719 - accuracy: 0.6492 - top_k_categorical_accuracy: 0.8583 - val_loss: 3.3814 - val_accuracy: 0.7471 - val_top_k_categorical_accuracy: 0.9375\n",
            "Epoch 9/50\n",
            "188/188 [==============================] - 123s 634ms/step - loss: 3.4068 - accuracy: 0.6949 - top_k_categorical_accuracy: 0.8961 - val_loss: 3.2113 - val_accuracy: 0.7894 - val_top_k_categorical_accuracy: 0.9521\n",
            "Epoch 10/50\n",
            "188/188 [==============================] - 123s 638ms/step - loss: 3.2445 - accuracy: 0.7218 - top_k_categorical_accuracy: 0.9149 - val_loss: 3.0460 - val_accuracy: 0.8240 - val_top_k_categorical_accuracy: 0.9618\n",
            "Epoch 11/50\n",
            "188/188 [==============================] - 123s 637ms/step - loss: 3.0858 - accuracy: 0.7525 - top_k_categorical_accuracy: 0.9312 - val_loss: 2.8845 - val_accuracy: 0.8444 - val_top_k_categorical_accuracy: 0.9685\n",
            "Epoch 12/50\n",
            "188/188 [==============================] - 123s 638ms/step - loss: 2.9312 - accuracy: 0.7782 - top_k_categorical_accuracy: 0.9391 - val_loss: 2.7273 - val_accuracy: 0.8556 - val_top_k_categorical_accuracy: 0.9723\n",
            "Epoch 13/50\n",
            "188/188 [==============================] - 124s 640ms/step - loss: 2.7810 - accuracy: 0.7917 - top_k_categorical_accuracy: 0.9451 - val_loss: 2.5752 - val_accuracy: 0.8652 - val_top_k_categorical_accuracy: 0.9745\n",
            "Epoch 14/50\n",
            "188/188 [==============================] - 124s 640ms/step - loss: 2.6413 - accuracy: 0.7987 - top_k_categorical_accuracy: 0.9454 - val_loss: 2.4284 - val_accuracy: 0.8725 - val_top_k_categorical_accuracy: 0.9773\n",
            "Epoch 15/50\n",
            "188/188 [==============================] - 124s 640ms/step - loss: 2.5011 - accuracy: 0.8062 - top_k_categorical_accuracy: 0.9518 - val_loss: 2.2874 - val_accuracy: 0.8781 - val_top_k_categorical_accuracy: 0.9793\n",
            "Epoch 16/50\n",
            "188/188 [==============================] - 123s 636ms/step - loss: 2.3700 - accuracy: 0.8081 - top_k_categorical_accuracy: 0.9568 - val_loss: 2.1528 - val_accuracy: 0.8823 - val_top_k_categorical_accuracy: 0.9805\n",
            "Epoch 17/50\n",
            "188/188 [==============================] - 124s 640ms/step - loss: 2.2417 - accuracy: 0.8165 - top_k_categorical_accuracy: 0.9552 - val_loss: 2.0243 - val_accuracy: 0.8860 - val_top_k_categorical_accuracy: 0.9811\n",
            "Epoch 18/50\n",
            "188/188 [==============================] - 124s 639ms/step - loss: 2.1211 - accuracy: 0.8163 - top_k_categorical_accuracy: 0.9555 - val_loss: 1.9021 - val_accuracy: 0.8880 - val_top_k_categorical_accuracy: 0.9822\n",
            "Epoch 19/50\n",
            "188/188 [==============================] - 124s 640ms/step - loss: 2.0057 - accuracy: 0.8258 - top_k_categorical_accuracy: 0.9571 - val_loss: 1.7868 - val_accuracy: 0.8907 - val_top_k_categorical_accuracy: 0.9826\n",
            "Epoch 20/50\n",
            "188/188 [==============================] - 124s 640ms/step - loss: 1.9006 - accuracy: 0.8241 - top_k_categorical_accuracy: 0.9572 - val_loss: 1.6785 - val_accuracy: 0.8920 - val_top_k_categorical_accuracy: 0.9828\n",
            "Epoch 21/50\n",
            "188/188 [==============================] - 124s 640ms/step - loss: 1.7911 - accuracy: 0.8330 - top_k_categorical_accuracy: 0.9631 - val_loss: 1.5761 - val_accuracy: 0.8934 - val_top_k_categorical_accuracy: 0.9832\n",
            "Epoch 22/50\n",
            "188/188 [==============================] - 124s 638ms/step - loss: 1.6952 - accuracy: 0.8325 - top_k_categorical_accuracy: 0.9609 - val_loss: 1.4806 - val_accuracy: 0.8957 - val_top_k_categorical_accuracy: 0.9836\n",
            "Epoch 23/50\n",
            "188/188 [==============================] - 124s 640ms/step - loss: 1.6111 - accuracy: 0.8334 - top_k_categorical_accuracy: 0.9628 - val_loss: 1.3919 - val_accuracy: 0.8966 - val_top_k_categorical_accuracy: 0.9838\n",
            "Epoch 24/50\n",
            "188/188 [==============================] - 124s 641ms/step - loss: 1.5290 - accuracy: 0.8350 - top_k_categorical_accuracy: 0.9592 - val_loss: 1.3095 - val_accuracy: 0.8985 - val_top_k_categorical_accuracy: 0.9844\n",
            "Epoch 25/50\n",
            "188/188 [==============================] - 124s 641ms/step - loss: 1.4489 - accuracy: 0.8372 - top_k_categorical_accuracy: 0.9651 - val_loss: 1.2332 - val_accuracy: 0.9005 - val_top_k_categorical_accuracy: 0.9850\n",
            "Epoch 26/50\n",
            "188/188 [==============================] - 124s 642ms/step - loss: 1.3754 - accuracy: 0.8403 - top_k_categorical_accuracy: 0.9634 - val_loss: 1.1631 - val_accuracy: 0.9015 - val_top_k_categorical_accuracy: 0.9852\n",
            "Epoch 27/50\n",
            "188/188 [==============================] - 124s 641ms/step - loss: 1.3106 - accuracy: 0.8391 - top_k_categorical_accuracy: 0.9642 - val_loss: 1.0982 - val_accuracy: 0.9020 - val_top_k_categorical_accuracy: 0.9853\n",
            "Epoch 28/50\n",
            "188/188 [==============================] - 124s 640ms/step - loss: 1.2496 - accuracy: 0.8444 - top_k_categorical_accuracy: 0.9658 - val_loss: 1.0384 - val_accuracy: 0.9030 - val_top_k_categorical_accuracy: 0.9854\n",
            "Epoch 29/50\n",
            "188/188 [==============================] - 125s 646ms/step - loss: 1.1927 - accuracy: 0.8413 - top_k_categorical_accuracy: 0.9644 - val_loss: 0.9834 - val_accuracy: 0.9036 - val_top_k_categorical_accuracy: 0.9854\n",
            "Epoch 30/50\n",
            "188/188 [==============================] - 124s 642ms/step - loss: 1.1345 - accuracy: 0.8469 - top_k_categorical_accuracy: 0.9659 - val_loss: 0.9330 - val_accuracy: 0.9033 - val_top_k_categorical_accuracy: 0.9852\n",
            "Epoch 31/50\n",
            "188/188 [==============================] - 124s 640ms/step - loss: 1.0821 - accuracy: 0.8506 - top_k_categorical_accuracy: 0.9690 - val_loss: 0.8867 - val_accuracy: 0.9045 - val_top_k_categorical_accuracy: 0.9852\n",
            "Epoch 32/50\n",
            "188/188 [==============================] - 124s 639ms/step - loss: 1.0485 - accuracy: 0.8411 - top_k_categorical_accuracy: 0.9654 - val_loss: 0.8445 - val_accuracy: 0.9054 - val_top_k_categorical_accuracy: 0.9852\n",
            "Epoch 33/50\n",
            "188/188 [==============================] - 124s 642ms/step - loss: 1.0063 - accuracy: 0.8470 - top_k_categorical_accuracy: 0.9689 - val_loss: 0.8056 - val_accuracy: 0.9058 - val_top_k_categorical_accuracy: 0.9853\n",
            "Epoch 34/50\n",
            "188/188 [==============================] - 124s 642ms/step - loss: 0.9761 - accuracy: 0.8501 - top_k_categorical_accuracy: 0.9665 - val_loss: 0.7697 - val_accuracy: 0.9058 - val_top_k_categorical_accuracy: 0.9853\n",
            "Epoch 35/50\n",
            "188/188 [==============================] - 125s 644ms/step - loss: 0.9322 - accuracy: 0.8483 - top_k_categorical_accuracy: 0.9688 - val_loss: 0.7370 - val_accuracy: 0.9059 - val_top_k_categorical_accuracy: 0.9854\n",
            "Epoch 36/50\n",
            "188/188 [==============================] - 124s 642ms/step - loss: 0.9015 - accuracy: 0.8493 - top_k_categorical_accuracy: 0.9681 - val_loss: 0.7069 - val_accuracy: 0.9063 - val_top_k_categorical_accuracy: 0.9852\n",
            "Epoch 37/50\n",
            "188/188 [==============================] - 124s 642ms/step - loss: 0.8732 - accuracy: 0.8492 - top_k_categorical_accuracy: 0.9687 - val_loss: 0.6792 - val_accuracy: 0.9068 - val_top_k_categorical_accuracy: 0.9853\n",
            "Epoch 38/50\n",
            "188/188 [==============================] - 124s 643ms/step - loss: 0.8468 - accuracy: 0.8534 - top_k_categorical_accuracy: 0.9674 - val_loss: 0.6539 - val_accuracy: 0.9077 - val_top_k_categorical_accuracy: 0.9857\n",
            "Epoch 39/50\n",
            "188/188 [==============================] - 124s 641ms/step - loss: 0.8242 - accuracy: 0.8461 - top_k_categorical_accuracy: 0.9702 - val_loss: 0.6306 - val_accuracy: 0.9077 - val_top_k_categorical_accuracy: 0.9855\n",
            "Epoch 40/50\n",
            "188/188 [==============================] - 125s 643ms/step - loss: 0.8062 - accuracy: 0.8485 - top_k_categorical_accuracy: 0.9691 - val_loss: 0.6093 - val_accuracy: 0.9079 - val_top_k_categorical_accuracy: 0.9858\n",
            "Epoch 41/50\n",
            "188/188 [==============================] - 125s 643ms/step - loss: 0.7841 - accuracy: 0.8504 - top_k_categorical_accuracy: 0.9700 - val_loss: 0.5896 - val_accuracy: 0.9089 - val_top_k_categorical_accuracy: 0.9858\n",
            "Epoch 42/50\n",
            "188/188 [==============================] - 124s 642ms/step - loss: 0.7532 - accuracy: 0.8580 - top_k_categorical_accuracy: 0.9688 - val_loss: 0.5715 - val_accuracy: 0.9084 - val_top_k_categorical_accuracy: 0.9860\n",
            "Epoch 43/50\n",
            "188/188 [==============================] - 125s 644ms/step - loss: 0.7497 - accuracy: 0.8502 - top_k_categorical_accuracy: 0.9678 - val_loss: 0.5547 - val_accuracy: 0.9091 - val_top_k_categorical_accuracy: 0.9860\n",
            "Epoch 44/50\n",
            "188/188 [==============================] - 125s 643ms/step - loss: 0.7249 - accuracy: 0.8537 - top_k_categorical_accuracy: 0.9714 - val_loss: 0.5394 - val_accuracy: 0.9090 - val_top_k_categorical_accuracy: 0.9860\n",
            "Epoch 45/50\n",
            "188/188 [==============================] - 125s 644ms/step - loss: 0.7135 - accuracy: 0.8530 - top_k_categorical_accuracy: 0.9672 - val_loss: 0.5249 - val_accuracy: 0.9097 - val_top_k_categorical_accuracy: 0.9862\n",
            "Epoch 46/50\n",
            "188/188 [==============================] - 125s 645ms/step - loss: 0.6931 - accuracy: 0.8540 - top_k_categorical_accuracy: 0.9704 - val_loss: 0.5115 - val_accuracy: 0.9096 - val_top_k_categorical_accuracy: 0.9866\n",
            "Epoch 47/50\n",
            "188/188 [==============================] - 125s 646ms/step - loss: 0.6850 - accuracy: 0.8524 - top_k_categorical_accuracy: 0.9673 - val_loss: 0.4994 - val_accuracy: 0.9099 - val_top_k_categorical_accuracy: 0.9865\n",
            "Epoch 48/50\n",
            "188/188 [==============================] - 125s 644ms/step - loss: 0.6620 - accuracy: 0.8543 - top_k_categorical_accuracy: 0.9713 - val_loss: 0.4879 - val_accuracy: 0.9099 - val_top_k_categorical_accuracy: 0.9865\n",
            "Epoch 49/50\n",
            "188/188 [==============================] - 125s 644ms/step - loss: 0.6613 - accuracy: 0.8521 - top_k_categorical_accuracy: 0.9711 - val_loss: 0.4771 - val_accuracy: 0.9103 - val_top_k_categorical_accuracy: 0.9866\n",
            "Epoch 50/50\n",
            "188/188 [==============================] - 125s 644ms/step - loss: 0.6512 - accuracy: 0.8540 - top_k_categorical_accuracy: 0.9707 - val_loss: 0.4672 - val_accuracy: 0.9104 - val_top_k_categorical_accuracy: 0.9867\n"
          ],
          "name": "stdout"
        }
      ]
    },
    {
      "cell_type": "markdown",
      "metadata": {
        "id": "rGTzgxvp3PFG"
      },
      "source": [
        "## Examine the results\r\n",
        "\r\n",
        "We could have used Tensorboard but for the purposes of this report we will do the EDA ourselves here on place. A simple plotting function will do just fine."
      ]
    },
    {
      "cell_type": "code",
      "metadata": {
        "id": "f-ZXmDsY3ATd"
      },
      "source": [
        "def plot_train_and_validation_results(train, validation, title):\r\n",
        "  plt.plot(train)\r\n",
        "  plt.plot(validation)\r\n",
        "  plt.title(title)\r\n",
        "  plt.legend(['Training', 'Validation'])\r\n",
        "  plt.show()"
      ],
      "execution_count": null,
      "outputs": []
    },
    {
      "cell_type": "code",
      "metadata": {
        "colab": {
          "base_uri": "https://localhost:8080/",
          "height": 281
        },
        "id": "nbFwI6ly3Asl",
        "outputId": "556df43c-0c69-40e3-81c0-f0948b3f922d"
      },
      "source": [
        "plot_train_and_validation_results(history_resnet_inception.history['loss'], history_resnet_inception.history['val_loss'], 'Training and Validation Loss' )"
      ],
      "execution_count": null,
      "outputs": [
        {
          "output_type": "display_data",
          "data": {
            "image/png": "[encoded data removed]",
            "text/plain": [
              "<Figure size 432x288 with 1 Axes>"
            ]
          },
          "metadata": {
            "tags": [],
            "needs_background": "light"
          }
        }
      ]
    },
    {
      "cell_type": "code",
      "metadata": {
        "colab": {
          "base_uri": "https://localhost:8080/",
          "height": 281
        },
        "id": "N9yKpOiw3AzQ",
        "outputId": "f2bea1d3-746c-485c-a0ed-69bb6ba2ec56"
      },
      "source": [
        "plot_train_and_validation_results(history_resnet_inception.history['accuracy'], history_resnet_inception.history['val_accuracy'], 'Training and Validation Accuracy' )"
      ],
      "execution_count": null,
      "outputs": [
        {
          "output_type": "display_data",
          "data": {
            "image/png": "[encoded data removed]",
            "text/plain": [
              "<Figure size 432x288 with 1 Axes>"
            ]
          },
          "metadata": {
            "tags": [],
            "needs_background": "light"
          }
        }
      ]
    },
    {
      "cell_type": "code",
      "metadata": {
        "colab": {
          "base_uri": "https://localhost:8080/",
          "height": 281
        },
        "id": "bLsiNY5D33le",
        "outputId": "90f55523-d521-4739-a97a-37c64cd2af85"
      },
      "source": [
        "plot_train_and_validation_results(history_resnet_inception.history['top_k_categorical_accuracy'], history_resnet_inception.history['val_top_k_categorical_accuracy'], 'Top 3 Training and Validation Accuracy' )"
      ],
      "execution_count": null,
      "outputs": [
        {
          "output_type": "display_data",
          "data": {
            "image/png": "[encoded data removed]",
            "text/plain": [
              "<Figure size 432x288 with 1 Axes>"
            ]
          },
          "metadata": {
            "tags": [],
            "needs_background": "light"
          }
        }
      ]
    },
    {
      "cell_type": "markdown",
      "metadata": {
        "id": "FqLjTPH64N7T"
      },
      "source": [
        "### Problems\r\n",
        "First things first. Surprisingly or not we've got better performance on validation data. We need to adress that. Is it overfitting, leak, bad distribution or simply easier observations? \r\n",
        "\r\n",
        "First of all the margin is insignificant and the gap is constantly shrinking. Second, the distribution is fine. Yes, the dataset is not perfectly balanced but its close to that state. Third, the data augmentation and different regularization techniques are not applied to the validation set. Last but not least, the learning graphics look perfectly fine.\r\n",
        "\r\n",
        "### Scores\r\n",
        "Let's analyze the results now. Based on both Training and Validation data we should expect between 85%(training) and 91%(validation) accuracy with one guess. The metrics Val Top K Accuracy that we set up to look for the top 3 classes is even greater with between 97-99% score. In other words there is around 91% chance our model to recognize the label instantly and around 98% to put the correct label in a sample of 2 other labels.\r\n",
        "\r\n",
        "\r\n",
        "### Learning Graphics\r\n",
        "\r\n",
        "Based on the last graphics we could have stopped the model earlier. The Accuracy and  Top K Accuracy didn't improve much from epoch 15 to epoch 50. But they were going up slowly still.  And most importantly the Loss curve looks great. Even though the other two kind of stagnated, the loss learning curve kept getting deeper. Based on the tuning process and the final few epochs it slowed down a bit but the model was still learning and the stagnation of the other two metrics is result of the very hard and relatively small dataset. \r\n",
        "\r\n",
        "Conclusion - the model was learning and it will continue to learn for at least  few more epochs if we decide to continue or even add more data."
      ]
    },
    {
      "cell_type": "markdown",
      "metadata": {
        "id": "QIvXUCez-Tol"
      },
      "source": [
        ""
      ]
    },
    {
      "cell_type": "code",
      "metadata": {
        "colab": {
          "base_uri": "https://localhost:8080/"
        },
        "id": "TFPjLhCsDUaf",
        "outputId": "ec3eca0a-5b81-412e-bdba-eee0d5bcc6ce"
      },
      "source": [
        "resnet_inception.save('drive/MyDrive/save_1')"
      ],
      "execution_count": null,
      "outputs": [
        {
          "output_type": "stream",
          "text": [
            "INFO:tensorflow:Assets written to: drive/MyDrive/save_1/assets\n"
          ],
          "name": "stdout"
        },
        {
          "output_type": "stream",
          "text": [
            "INFO:tensorflow:Assets written to: drive/MyDrive/save_1/assets\n"
          ],
          "name": "stderr"
        }
      ]
    }
  ]
}